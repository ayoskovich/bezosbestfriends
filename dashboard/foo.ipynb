{
 "cells": [
  {
   "cell_type": "code",
   "execution_count": 8,
   "metadata": {},
   "outputs": [
    {
     "name": "stdout",
     "output_type": "stream",
     "text": [
      "there is an apple\n",
      "apples are great\n",
      "want an apple bob?\n"
     ]
    }
   ],
   "source": [
    "sents = [\n",
    "    'there is an apple',\n",
    "    'apples are great',\n",
    "    'want an apple bob?'\n",
    "]\n",
    "\n",
    "first_pad = sents[0].index('apple')\n",
    "for sent in sents:\n",
    "    index_of_apply = sent.index('apple')\n",
    "    print(sent)"
   ]
  },
  {
   "cell_type": "code",
   "execution_count": 12,
   "metadata": {},
   "outputs": [
    {
     "name": "stdout",
     "output_type": "stream",
     "text": [
      "   Hello Python   \n",
      "   Python World   \n",
      "Python\n",
      "Center\n"
     ]
    }
   ],
   "source": [
    "def center_strings(strings, center_word):\n",
    "    centered_strings = []\n",
    "\n",
    "    for string in strings:\n",
    "        total_padding = max(0, len(string) - len(center_word))\n",
    "        left_padding = total_padding // 2\n",
    "        right_padding = total_padding - left_padding\n",
    "\n",
    "        centered_string = \" \" * left_padding + string + \" \" * right_padding\n",
    "        centered_strings.append(centered_string)\n",
    "\n",
    "    return centered_strings\n",
    "\n",
    "# Example usage:\n",
    "input_strings = [\"Hello Python\", \"Python World\", \"Python\", \"Center\"]\n",
    "center_word = \"Python\"\n",
    "centered_result = center_strings(input_strings, center_word)\n",
    "for string in centered_result:\n",
    "    print(string)"
   ]
  },
  {
   "cell_type": "code",
   "execution_count": 13,
   "metadata": {},
   "outputs": [
    {
     "data": {
      "text/plain": [
       "['   Hello Python   ', '   Python World   ', 'Python', 'Center']"
      ]
     },
     "execution_count": 13,
     "metadata": {},
     "output_type": "execute_result"
    }
   ],
   "source": [
    "centered_result"
   ]
  },
  {
   "cell_type": "code",
   "execution_count": null,
   "metadata": {},
   "outputs": [],
   "source": []
  }
 ],
 "metadata": {
  "kernelspec": {
   "display_name": "Python 3",
   "language": "python",
   "name": "python3"
  },
  "language_info": {
   "codemirror_mode": {
    "name": "ipython",
    "version": 3
   },
   "file_extension": ".py",
   "mimetype": "text/x-python",
   "name": "python",
   "nbconvert_exporter": "python",
   "pygments_lexer": "ipython3",
   "version": "3.11.1"
  },
  "orig_nbformat": 4
 },
 "nbformat": 4,
 "nbformat_minor": 2
}
