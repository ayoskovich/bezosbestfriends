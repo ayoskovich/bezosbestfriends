{
 "cells": [
  {
   "cell_type": "code",
   "execution_count": 15,
   "metadata": {},
   "outputs": [
    {
     "name": "stdout",
     "output_type": "stream",
     "text": [
      "Collecting nltk\n",
      "  Using cached nltk-3.8.1-py3-none-any.whl (1.5 MB)\n",
      "Collecting click\n",
      "  Using cached click-8.1.7-py3-none-any.whl (97 kB)\n",
      "Collecting regex>=2021.8.3\n",
      "  Using cached regex-2023.8.8-cp310-cp310-macosx_10_9_x86_64.whl (294 kB)\n",
      "Collecting joblib\n",
      "  Using cached joblib-1.3.2-py3-none-any.whl (302 kB)\n",
      "Collecting tqdm\n",
      "  Using cached tqdm-4.66.1-py3-none-any.whl (78 kB)\n",
      "Installing collected packages: tqdm, regex, joblib, click, nltk\n",
      "Successfully installed click-8.1.7 joblib-1.3.2 nltk-3.8.1 regex-2023.8.8 tqdm-4.66.1\n",
      "\n",
      "\u001b[1m[\u001b[0m\u001b[34;49mnotice\u001b[0m\u001b[1;39;49m]\u001b[0m\u001b[39;49m A new release of pip is available: \u001b[0m\u001b[31;49m23.0\u001b[0m\u001b[39;49m -> \u001b[0m\u001b[32;49m23.2.1\u001b[0m\n",
      "\u001b[1m[\u001b[0m\u001b[34;49mnotice\u001b[0m\u001b[1;39;49m]\u001b[0m\u001b[39;49m To update, run: \u001b[0m\u001b[32;49mpip install --upgrade pip\u001b[0m\n"
     ]
    }
   ],
   "source": [
    "import sys\n",
    "!{sys.executable} -m pip install nltk"
   ]
  },
  {
   "cell_type": "code",
   "execution_count": 1,
   "metadata": {},
   "outputs": [
    {
     "data": {
      "text/html": [
       "<div>\n",
       "<style scoped>\n",
       "    .dataframe tbody tr th:only-of-type {\n",
       "        vertical-align: middle;\n",
       "    }\n",
       "\n",
       "    .dataframe tbody tr th {\n",
       "        vertical-align: top;\n",
       "    }\n",
       "\n",
       "    .dataframe thead th {\n",
       "        text-align: right;\n",
       "    }\n",
       "</style>\n",
       "<table border=\"1\" class=\"dataframe\">\n",
       "  <thead>\n",
       "    <tr style=\"text-align: right;\">\n",
       "      <th></th>\n",
       "      <th>pagenumber</th>\n",
       "      <th>text</th>\n",
       "      <th>fname</th>\n",
       "    </tr>\n",
       "  </thead>\n",
       "  <tbody>\n",
       "    <tr>\n",
       "      <th>0</th>\n",
       "      <td>1</td>\n",
       "      <td>\\n  \\n \\n \\nTo our shareholders:    Amazon.co...</td>\n",
       "      <td>data\\Letter_1998.pdf</td>\n",
       "    </tr>\n",
       "    <tr>\n",
       "      <th>1</th>\n",
       "      <td>2</td>\n",
       "      <td>\\n  Because of our emphasis on the long term,...</td>\n",
       "      <td>data\\Letter_1998.pdf</td>\n",
       "    </tr>\n",
       "    <tr>\n",
       "      <th>2</th>\n",
       "      <td>3</td>\n",
       "      <td>\\n  We aren't so bold as to claim that the ab...</td>\n",
       "      <td>data\\Letter_1998.pdf</td>\n",
       "    </tr>\n",
       "    <tr>\n",
       "      <th>3</th>\n",
       "      <td>4</td>\n",
       "      <td>\\n   Infrastructure \\n   During 1997, we work...</td>\n",
       "      <td>data\\Letter_1998.pdf</td>\n",
       "    </tr>\n",
       "    <tr>\n",
       "      <th>4</th>\n",
       "      <td>5</td>\n",
       "      <td>\\n  We now know vastly more about online comm...</td>\n",
       "      <td>data\\Letter_1998.pdf</td>\n",
       "    </tr>\n",
       "    <tr>\n",
       "      <th>...</th>\n",
       "      <td>...</td>\n",
       "      <td>...</td>\n",
       "      <td>...</td>\n",
       "    </tr>\n",
       "    <tr>\n",
       "      <th>5</th>\n",
       "      <td>6</td>\n",
       "      <td>month flat fee, enables Prime members to get a...</td>\n",
       "      <td>data\\Letter_2023.pdf</td>\n",
       "    </tr>\n",
       "    <tr>\n",
       "      <th>6</th>\n",
       "      <td>7</td>\n",
       "      <td>developer productivity by generating code sugg...</td>\n",
       "      <td>data\\Letter_2023.pdf</td>\n",
       "    </tr>\n",
       "    <tr>\n",
       "      <th>7</th>\n",
       "      <td>8</td>\n",
       "      <td>1997 LETTER TO SHAREHOLDERS\\n(Reprinted from t...</td>\n",
       "      <td>data\\Letter_2023.pdf</td>\n",
       "    </tr>\n",
       "    <tr>\n",
       "      <th>8</th>\n",
       "      <td>9</td>\n",
       "      <td>• We will make bold rather than timid investme...</td>\n",
       "      <td>data\\Letter_2023.pdf</td>\n",
       "    </tr>\n",
       "    <tr>\n",
       "      <th>9</th>\n",
       "      <td>10</td>\n",
       "      <td>Infrastructure\\nDuring 1997, we worked hard to...</td>\n",
       "      <td>data\\Letter_2023.pdf</td>\n",
       "    </tr>\n",
       "  </tbody>\n",
       "</table>\n",
       "<p>180 rows × 3 columns</p>\n",
       "</div>"
      ],
      "text/plain": [
       "    pagenumber                                               text  \\\n",
       "0            1   \\n  \\n \\n \\nTo our shareholders:    Amazon.co...   \n",
       "1            2   \\n  Because of our emphasis on the long term,...   \n",
       "2            3   \\n  We aren't so bold as to claim that the ab...   \n",
       "3            4   \\n   Infrastructure \\n   During 1997, we work...   \n",
       "4            5   \\n  We now know vastly more about online comm...   \n",
       "..         ...                                                ...   \n",
       "5            6  month flat fee, enables Prime members to get a...   \n",
       "6            7  developer productivity by generating code sugg...   \n",
       "7            8  1997 LETTER TO SHAREHOLDERS\\n(Reprinted from t...   \n",
       "8            9  • We will make bold rather than timid investme...   \n",
       "9           10  Infrastructure\\nDuring 1997, we worked hard to...   \n",
       "\n",
       "                   fname  \n",
       "0   data\\Letter_1998.pdf  \n",
       "1   data\\Letter_1998.pdf  \n",
       "2   data\\Letter_1998.pdf  \n",
       "3   data\\Letter_1998.pdf  \n",
       "4   data\\Letter_1998.pdf  \n",
       "..                   ...  \n",
       "5   data\\Letter_2023.pdf  \n",
       "6   data\\Letter_2023.pdf  \n",
       "7   data\\Letter_2023.pdf  \n",
       "8   data\\Letter_2023.pdf  \n",
       "9   data\\Letter_2023.pdf  \n",
       "\n",
       "[180 rows x 3 columns]"
      ]
     },
     "execution_count": 1,
     "metadata": {},
     "output_type": "execute_result"
    }
   ],
   "source": [
    "import glob\n",
    "from pypdf import PdfReader\n",
    "letters = {\n",
    "    fname: PdfReader(fname) \n",
    "    for fname in glob.glob('data/*.pdf')\n",
    "}\n",
    "\n",
    "def process_letter(x: PdfReader) -> dict:\n",
    "    return [\n",
    "        {'pagenumber': i+1, 'text': page.extract_text()} \n",
    "        for i, page in enumerate(x.pages)\n",
    "    ]\n",
    "\n",
    "import pandas as pd\n",
    "al = []\n",
    "for fname, pdf in letters.items():\n",
    "    al.append(pd.DataFrame(process_letter(pdf)).assign(fname=fname))\n",
    "\n",
    "alldata = pd.concat(al)\n",
    "alldata"
   ]
  },
  {
   "cell_type": "code",
   "execution_count": 2,
   "metadata": {},
   "outputs": [],
   "source": [
    "import seaborn as sns\n",
    "\n",
    "def is_1997_letter(text: str) -> bool:\n",
    "    return any([\n",
    "        text.startswith(snippet)\n",
    "        for snippet in (\n",
    "            '1997 LETTER TO SHAREHOLDERS',\n",
    "            '• We will make bold rather than timid investment',\n",
    "            'Infrastructure\\nDuring 1997, we worked hard to'\n",
    "        )\n",
    "    ])\n",
    "getyear = lambda x: int(x.split('_')[1].split('.')[0])\n",
    "alldata['ncharacters'] = alldata['text'].str.len()\n",
    "alldata['is1997letter'] = alldata['text'].apply(is_1997_letter)\n",
    "alldata['year'] = alldata['fname'].apply(getyear)"
   ]
  },
  {
   "cell_type": "code",
   "execution_count": 3,
   "metadata": {},
   "outputs": [
    {
     "name": "stderr",
     "output_type": "stream",
     "text": [
      "c:\\Users\\antho\\bezosbestfriends\\venv\\Lib\\site-packages\\seaborn\\_oldcore.py:1498: FutureWarning: is_categorical_dtype is deprecated and will be removed in a future version. Use isinstance(dtype, CategoricalDtype) instead\n",
      "  if pd.api.types.is_categorical_dtype(vector):\n",
      "c:\\Users\\antho\\bezosbestfriends\\venv\\Lib\\site-packages\\seaborn\\_oldcore.py:1119: FutureWarning: use_inf_as_na option is deprecated and will be removed in a future version. Convert inf values to NaN before operating instead.\n",
      "  with pd.option_context('mode.use_inf_as_na', True):\n"
     ]
    },
    {
     "data": {
      "image/png": "[encoded data removed]",
      "text/plain": [
       "<Figure size 640x480 with 1 Axes>"
      ]
     },
     "metadata": {},
     "output_type": "display_data"
    }
   ],
   "source": [
    "sns.histplot(x='ncharacters', data=alldata);"
   ]
  },
  {
   "cell_type": "code",
   "execution_count": 4,
   "metadata": {},
   "outputs": [],
   "source": [
    "# The first one is obviously the  one\n",
    "first_year = alldata.loc[lambda x: x['is1997letter']].sort_values(by='year')['year'].iloc[0]"
   ]
  },
  {
   "cell_type": "code",
   "execution_count": 32,
   "metadata": {},
   "outputs": [
    {
     "data": {
      "text/html": [
       "<div>\n",
       "<style scoped>\n",
       "    .dataframe tbody tr th:only-of-type {\n",
       "        vertical-align: middle;\n",
       "    }\n",
       "\n",
       "    .dataframe tbody tr th {\n",
       "        vertical-align: top;\n",
       "    }\n",
       "\n",
       "    .dataframe thead th {\n",
       "        text-align: right;\n",
       "    }\n",
       "</style>\n",
       "<table border=\"1\" class=\"dataframe\">\n",
       "  <thead>\n",
       "    <tr style=\"text-align: right;\">\n",
       "      <th></th>\n",
       "      <th>pagenumber</th>\n",
       "      <th>text</th>\n",
       "      <th>fname</th>\n",
       "      <th>ncharacters</th>\n",
       "      <th>is1997letter</th>\n",
       "      <th>year</th>\n",
       "    </tr>\n",
       "  </thead>\n",
       "  <tbody>\n",
       "    <tr>\n",
       "      <th>0</th>\n",
       "      <td>1</td>\n",
       "      <td>\\n  \\n \\n \\nTo our shareholders:    Amazon.co...</td>\n",
       "      <td>data\\Letter_1998.pdf</td>\n",
       "      <td>2392</td>\n",
       "      <td>False</td>\n",
       "      <td>1998</td>\n",
       "    </tr>\n",
       "    <tr>\n",
       "      <th>1</th>\n",
       "      <td>2</td>\n",
       "      <td>\\n  Because of our emphasis on the long term,...</td>\n",
       "      <td>data\\Letter_1998.pdf</td>\n",
       "      <td>2333</td>\n",
       "      <td>False</td>\n",
       "      <td>1998</td>\n",
       "    </tr>\n",
       "    <tr>\n",
       "      <th>2</th>\n",
       "      <td>3</td>\n",
       "      <td>\\n  We aren't so bold as to claim that the ab...</td>\n",
       "      <td>data\\Letter_1998.pdf</td>\n",
       "      <td>2170</td>\n",
       "      <td>False</td>\n",
       "      <td>1998</td>\n",
       "    </tr>\n",
       "    <tr>\n",
       "      <th>3</th>\n",
       "      <td>4</td>\n",
       "      <td>\\n   Infrastructure \\n   During 1997, we work...</td>\n",
       "      <td>data\\Letter_1998.pdf</td>\n",
       "      <td>2385</td>\n",
       "      <td>False</td>\n",
       "      <td>1998</td>\n",
       "    </tr>\n",
       "    <tr>\n",
       "      <th>4</th>\n",
       "      <td>5</td>\n",
       "      <td>\\n  We now know vastly more about online comm...</td>\n",
       "      <td>data\\Letter_1998.pdf</td>\n",
       "      <td>1294</td>\n",
       "      <td>False</td>\n",
       "      <td>1998</td>\n",
       "    </tr>\n",
       "    <tr>\n",
       "      <th>...</th>\n",
       "      <td>...</td>\n",
       "      <td>...</td>\n",
       "      <td>...</td>\n",
       "      <td>...</td>\n",
       "      <td>...</td>\n",
       "      <td>...</td>\n",
       "    </tr>\n",
       "    <tr>\n",
       "      <th>5</th>\n",
       "      <td>6</td>\n",
       "      <td>month flat fee, enables Prime members to get a...</td>\n",
       "      <td>data\\Letter_2023.pdf</td>\n",
       "      <td>5549</td>\n",
       "      <td>False</td>\n",
       "      <td>2023</td>\n",
       "    </tr>\n",
       "    <tr>\n",
       "      <th>6</th>\n",
       "      <td>7</td>\n",
       "      <td>developer productivity by generating code sugg...</td>\n",
       "      <td>data\\Letter_2023.pdf</td>\n",
       "      <td>1671</td>\n",
       "      <td>False</td>\n",
       "      <td>2023</td>\n",
       "    </tr>\n",
       "    <tr>\n",
       "      <th>7</th>\n",
       "      <td>8</td>\n",
       "      <td>1997 LETTER TO SHAREHOLDERS\\n(Reprinted from t...</td>\n",
       "      <td>data\\Letter_2023.pdf</td>\n",
       "      <td>3250</td>\n",
       "      <td>True</td>\n",
       "      <td>2023</td>\n",
       "    </tr>\n",
       "    <tr>\n",
       "      <th>8</th>\n",
       "      <td>9</td>\n",
       "      <td>• We will make bold rather than timid investme...</td>\n",
       "      <td>data\\Letter_2023.pdf</td>\n",
       "      <td>3502</td>\n",
       "      <td>True</td>\n",
       "      <td>2023</td>\n",
       "    </tr>\n",
       "    <tr>\n",
       "      <th>9</th>\n",
       "      <td>10</td>\n",
       "      <td>Infrastructure\\nDuring 1997, we worked hard to...</td>\n",
       "      <td>data\\Letter_2023.pdf</td>\n",
       "      <td>3390</td>\n",
       "      <td>True</td>\n",
       "      <td>2023</td>\n",
       "    </tr>\n",
       "  </tbody>\n",
       "</table>\n",
       "<p>180 rows × 6 columns</p>\n",
       "</div>"
      ],
      "text/plain": [
       "    pagenumber                                               text  \\\n",
       "0            1   \\n  \\n \\n \\nTo our shareholders:    Amazon.co...   \n",
       "1            2   \\n  Because of our emphasis on the long term,...   \n",
       "2            3   \\n  We aren't so bold as to claim that the ab...   \n",
       "3            4   \\n   Infrastructure \\n   During 1997, we work...   \n",
       "4            5   \\n  We now know vastly more about online comm...   \n",
       "..         ...                                                ...   \n",
       "5            6  month flat fee, enables Prime members to get a...   \n",
       "6            7  developer productivity by generating code sugg...   \n",
       "7            8  1997 LETTER TO SHAREHOLDERS\\n(Reprinted from t...   \n",
       "8            9  • We will make bold rather than timid investme...   \n",
       "9           10  Infrastructure\\nDuring 1997, we worked hard to...   \n",
       "\n",
       "                   fname  ncharacters  is1997letter  year  \n",
       "0   data\\Letter_1998.pdf         2392         False  1998  \n",
       "1   data\\Letter_1998.pdf         2333         False  1998  \n",
       "2   data\\Letter_1998.pdf         2170         False  1998  \n",
       "3   data\\Letter_1998.pdf         2385         False  1998  \n",
       "4   data\\Letter_1998.pdf         1294         False  1998  \n",
       "..                   ...          ...           ...   ...  \n",
       "5   data\\Letter_2023.pdf         5549         False  2023  \n",
       "6   data\\Letter_2023.pdf         1671         False  2023  \n",
       "7   data\\Letter_2023.pdf         3250          True  2023  \n",
       "8   data\\Letter_2023.pdf         3502          True  2023  \n",
       "9   data\\Letter_2023.pdf         3390          True  2023  \n",
       "\n",
       "[180 rows x 6 columns]"
      ]
     },
     "execution_count": 32,
     "metadata": {},
     "output_type": "execute_result"
    }
   ],
   "source": [
    "alldata"
   ]
  },
  {
   "cell_type": "code",
   "execution_count": 15,
   "metadata": {},
   "outputs": [
    {
     "name": "stderr",
     "output_type": "stream",
     "text": [
      "c:\\Users\\antho\\bezosbestfriends\\venv\\Lib\\site-packages\\seaborn\\_oldcore.py:1498: FutureWarning: is_categorical_dtype is deprecated and will be removed in a future version. Use isinstance(dtype, CategoricalDtype) instead\n",
      "  if pd.api.types.is_categorical_dtype(vector):\n",
      "c:\\Users\\antho\\bezosbestfriends\\venv\\Lib\\site-packages\\seaborn\\_oldcore.py:1498: FutureWarning: is_categorical_dtype is deprecated and will be removed in a future version. Use isinstance(dtype, CategoricalDtype) instead\n",
      "  if pd.api.types.is_categorical_dtype(vector):\n"
     ]
    },
    {
     "data": {
      "image/png": "[encoded data removed]",
      "text/plain": [
       "<Figure size 640x480 with 1 Axes>"
      ]
     },
     "metadata": {},
     "output_type": "display_data"
    }
   ],
   "source": [
    "import matplotlib.pyplot as plt\n",
    "ax = sns.scatterplot(\n",
    "    x='year', \n",
    "    y='ncharacters', \n",
    "    data=(\n",
    "        alldata\n",
    "        # .loc[lambda x: ~x['is1997letter']]\n",
    "    )\n",
    ");\n",
    "ax.set(\n",
    "    title=f'Interestingly, starting in {first_year} he started attaching the 1997 letter.'\n",
    ");\n",
    "plt.axhline(y=3250);"
   ]
  },
  {
   "cell_type": "code",
   "execution_count": 6,
   "metadata": {},
   "outputs": [
    {
     "data": {
      "image/png": "[encoded data removed]",
      "text/plain": [
       "<Figure size 640x480 with 1 Axes>"
      ]
     },
     "metadata": {},
     "output_type": "display_data"
    }
   ],
   "source": [
    "import nltk\n",
    "# nltk.download(\"stopwords\")\n",
    "from nltk.corpus import stopwords\n",
    "from nltk.tokenize import word_tokenize\n",
    "from nltk.draw.dispersion import dispersion_plot\n",
    "from nltk import FreqDist\n",
    "\n",
    "stop_words = set(stopwords.words(\"english\"))\n",
    "\n",
    "def get_nonstop(text: str) -> list:\n",
    "    words_in_quote = word_tokenize(text)\n",
    "    return [\n",
    "        word for word in words_in_quote if word.casefold() not in stop_words\n",
    "    ]\n",
    "\n",
    "plotwords = [\n",
    "    # 'Amazon', 'web', 'data', \n",
    "    # 'increase', 'decrease',\n",
    "    'cloud', 'books',\n",
    "    'customer', 'data'\n",
    "]\n",
    "\n",
    "# Filtering out the 1997 letter that is always attached\n",
    "wholetext = word_tokenize(' '.join(alldata.loc[lambda x: ~x['is1997letter']]['text'].values))\n",
    "ax = dispersion_plot(wholetext, plotwords, ignore_case=True)\n",
    "ax.set(title='They really are customer obsessed')\n",
    "\n",
    "# WARNING: apparently I need to reverse the axes\n",
    "reved = ax.yaxis.get_ticklabels()[::-1]\n",
    "ax.yaxis.set_ticklabels(reved);"
   ]
  },
  {
   "cell_type": "code",
   "execution_count": null,
   "metadata": {},
   "outputs": [],
   "source": [
    "import plotly.graph_objects as go\n",
    "import plotly.express as px\n",
    "\n",
    "px.bar(x=)"
   ]
  },
  {
   "cell_type": "code",
   "execution_count": 8,
   "metadata": {},
   "outputs": [
    {
     "name": "stderr",
     "output_type": "stream",
     "text": [
      "[nltk_data] Downloading package wordnet to\n",
      "[nltk_data]     C:\\Users\\antho\\AppData\\Roaming\\nltk_data...\n"
     ]
    },
    {
     "data": {
      "text/plain": [
       "True"
      ]
     },
     "execution_count": 8,
     "metadata": {},
     "output_type": "execute_result"
    }
   ],
   "source": [
    "import nltk\n",
    "nltk.download('wordnet')"
   ]
  },
  {
   "cell_type": "code",
   "execution_count": 17,
   "metadata": {},
   "outputs": [],
   "source": [
    "PUNCTUATION = (\n",
    "    ',', '.', '`', '$', '%', \n",
    "    ':', '-', '(', ')', '’',\n",
    "    '•', '–', '“', '”'\n",
    ")\n",
    "\n",
    "from nltk.stem import PorterStemmer\n",
    "from nltk.stem import WordNetLemmatizer\n",
    "\n",
    "stemmer = PorterStemmer()\n",
    "lemmer = WordNetLemmatizer()\n",
    "\n",
    "subset_of_words = [x for x in wholetext if (x.casefold() not in stop_words) and (x not in PUNCTUATION)]\n",
    "stemmed_words = [stemmer.stem(x) for x in subset_of_words]\n",
    "lemmatized_words = [lemmer.lemmatize(x) for x in subset_of_words]\n",
    "\n",
    "dist = FreqDist(\n",
    "    # stemmed_words  # this doesn't give you whole words\n",
    "    lemmatized_words\n",
    ")\n",
    "# dist.most_common(25)"
   ]
  },
  {
   "cell_type": "code",
   "execution_count": 28,
   "metadata": {},
   "outputs": [
    {
     "ename": "ValueError",
     "evalue": "Mime type rendering requires nbformat>=4.2.0 but it is not installed",
     "output_type": "error",
     "traceback": [
      "\u001b[1;31m---------------------------------------------------------------------------\u001b[0m",
      "\u001b[1;31mValueError\u001b[0m                                Traceback (most recent call last)",
      "File \u001b[1;32mc:\\Users\\antho\\bezosbestfriends\\venv\\Lib\\site-packages\\IPython\\core\\formatters.py:922\u001b[0m, in \u001b[0;36mIPythonDisplayFormatter.__call__\u001b[1;34m(self, obj)\u001b[0m\n\u001b[0;32m    920\u001b[0m method \u001b[39m=\u001b[39m get_real_method(obj, \u001b[39mself\u001b[39m\u001b[39m.\u001b[39mprint_method)\n\u001b[0;32m    921\u001b[0m \u001b[39mif\u001b[39;00m method \u001b[39mis\u001b[39;00m \u001b[39mnot\u001b[39;00m \u001b[39mNone\u001b[39;00m:\n\u001b[1;32m--> 922\u001b[0m     method()\n\u001b[0;32m    923\u001b[0m     \u001b[39mreturn\u001b[39;00m \u001b[39mTrue\u001b[39;00m\n",
      "File \u001b[1;32mc:\\Users\\antho\\bezosbestfriends\\venv\\Lib\\site-packages\\plotly\\basedatatypes.py:834\u001b[0m, in \u001b[0;36mBaseFigure._ipython_display_\u001b[1;34m(self)\u001b[0m\n\u001b[0;32m    831\u001b[0m \u001b[39mimport\u001b[39;00m \u001b[39mplotly\u001b[39;00m\u001b[39m.\u001b[39;00m\u001b[39mio\u001b[39;00m \u001b[39mas\u001b[39;00m \u001b[39mpio\u001b[39;00m\n\u001b[0;32m    833\u001b[0m \u001b[39mif\u001b[39;00m pio\u001b[39m.\u001b[39mrenderers\u001b[39m.\u001b[39mrender_on_display \u001b[39mand\u001b[39;00m pio\u001b[39m.\u001b[39mrenderers\u001b[39m.\u001b[39mdefault:\n\u001b[1;32m--> 834\u001b[0m     pio\u001b[39m.\u001b[39;49mshow(\u001b[39mself\u001b[39;49m)\n\u001b[0;32m    835\u001b[0m \u001b[39melse\u001b[39;00m:\n\u001b[0;32m    836\u001b[0m     \u001b[39mprint\u001b[39m(\u001b[39mrepr\u001b[39m(\u001b[39mself\u001b[39m))\n",
      "File \u001b[1;32mc:\\Users\\antho\\bezosbestfriends\\venv\\Lib\\site-packages\\plotly\\io\\_renderers.py:396\u001b[0m, in \u001b[0;36mshow\u001b[1;34m(fig, renderer, validate, **kwargs)\u001b[0m\n\u001b[0;32m    391\u001b[0m         \u001b[39mraise\u001b[39;00m \u001b[39mValueError\u001b[39;00m(\n\u001b[0;32m    392\u001b[0m             \u001b[39m\"\u001b[39m\u001b[39mMime type rendering requires ipython but it is not installed\u001b[39m\u001b[39m\"\u001b[39m\n\u001b[0;32m    393\u001b[0m         )\n\u001b[0;32m    395\u001b[0m     \u001b[39mif\u001b[39;00m \u001b[39mnot\u001b[39;00m nbformat \u001b[39mor\u001b[39;00m Version(nbformat\u001b[39m.\u001b[39m__version__) \u001b[39m<\u001b[39m Version(\u001b[39m\"\u001b[39m\u001b[39m4.2.0\u001b[39m\u001b[39m\"\u001b[39m):\n\u001b[1;32m--> 396\u001b[0m         \u001b[39mraise\u001b[39;00m \u001b[39mValueError\u001b[39;00m(\n\u001b[0;32m    397\u001b[0m             \u001b[39m\"\u001b[39m\u001b[39mMime type rendering requires nbformat>=4.2.0 but it is not installed\u001b[39m\u001b[39m\"\u001b[39m\n\u001b[0;32m    398\u001b[0m         )\n\u001b[0;32m    400\u001b[0m     ipython_display\u001b[39m.\u001b[39mdisplay(bundle, raw\u001b[39m=\u001b[39m\u001b[39mTrue\u001b[39;00m)\n\u001b[0;32m    402\u001b[0m \u001b[39m# external renderers\u001b[39;00m\n",
      "\u001b[1;31mValueError\u001b[0m: Mime type rendering requires nbformat>=4.2.0 but it is not installed"
     ]
    },
    {
     "data": {
      "application/vnd.plotly.v1+json": {
       "config": {
        "plotlyServerURL": "https://plot.ly"
       },
       "data": [
        {
         "alignmentgroup": "True",
         "hovertemplate": "word=%{x}<br>amount=%{y}<extra></extra>",
         "legendgroup": "",
         "marker": {
          "color": "#636efa",
          "pattern": {
           "shape": ""
          }
         },
         "name": "",
         "offsetgroup": "",
         "orientation": "v",
         "showlegend": false,
         "textposition": "auto",
         "type": "bar",
         "x": [
          "customer",
          "Amazon",
          "year",
          "business",
          "million",
          "u",
          "new",
          "Amazon.com",
          "time",
          "work",
          "investment",
          "Prime",
          "company",
          "product",
          "AWS"
         ],
         "xaxis": "x",
         "y": [
          665,
          357,
          299,
          216,
          202,
          190,
          176,
          169,
          164,
          160,
          152,
          152,
          147,
          142,
          141
         ],
         "yaxis": "y"
        }
       ],
       "layout": {
        "barmode": "relative",
        "legend": {
         "tracegroupgap": 0
        },
        "margin": {
         "t": 60
        },
        "template": {
         "data": {
          "bar": [
           {
            "error_x": {
             "color": "#2a3f5f"
            },
            "error_y": {
             "color": "#2a3f5f"
            },
            "marker": {
             "line": {
              "color": "#E5ECF6",
              "width": 0.5
             },
             "pattern": {
              "fillmode": "overlay",
              "size": 10,
              "solidity": 0.2
             }
            },
            "type": "bar"
           }
          ],
          "barpolar": [
           {
            "marker": {
             "line": {
              "color": "#E5ECF6",
              "width": 0.5
             },
             "pattern": {
              "fillmode": "overlay",
              "size": 10,
              "solidity": 0.2
             }
            },
            "type": "barpolar"
           }
          ],
          "carpet": [
           {
            "aaxis": {
             "endlinecolor": "#2a3f5f",
             "gridcolor": "white",
             "linecolor": "white",
             "minorgridcolor": "white",
             "startlinecolor": "#2a3f5f"
            },
            "baxis": {
             "endlinecolor": "#2a3f5f",
             "gridcolor": "white",
             "linecolor": "white",
             "minorgridcolor": "white",
             "startlinecolor": "#2a3f5f"
            },
            "type": "carpet"
           }
          ],
          "choropleth": [
           {
            "colorbar": {
             "outlinewidth": 0,
             "ticks": ""
            },
            "type": "choropleth"
           }
          ],
          "contour": [
           {
            "colorbar": {
             "outlinewidth": 0,
             "ticks": ""
            },
            "colorscale": [
             [
              0,
              "#0d0887"
             ],
             [
              0.1111111111111111,
              "#46039f"
             ],
             [
              0.2222222222222222,
              "#7201a8"
             ],
             [
              0.3333333333333333,
              "#9c179e"
             ],
             [
              0.4444444444444444,
              "#bd3786"
             ],
             [
              0.5555555555555556,
              "#d8576b"
             ],
             [
              0.6666666666666666,
              "#ed7953"
             ],
             [
              0.7777777777777778,
              "#fb9f3a"
             ],
             [
              0.8888888888888888,
              "#fdca26"
             ],
             [
              1,
              "#f0f921"
             ]
            ],
            "type": "contour"
           }
          ],
          "contourcarpet": [
           {
            "colorbar": {
             "outlinewidth": 0,
             "ticks": ""
            },
            "type": "contourcarpet"
           }
          ],
          "heatmap": [
           {
            "colorbar": {
             "outlinewidth": 0,
             "ticks": ""
            },
            "colorscale": [
             [
              0,
              "#0d0887"
             ],
             [
              0.1111111111111111,
              "#46039f"
             ],
             [
              0.2222222222222222,
              "#7201a8"
             ],
             [
              0.3333333333333333,
              "#9c179e"
             ],
             [
              0.4444444444444444,
              "#bd3786"
             ],
             [
              0.5555555555555556,
              "#d8576b"
             ],
             [
              0.6666666666666666,
              "#ed7953"
             ],
             [
              0.7777777777777778,
              "#fb9f3a"
             ],
             [
              0.8888888888888888,
              "#fdca26"
             ],
             [
              1,
              "#f0f921"
             ]
            ],
            "type": "heatmap"
           }
          ],
          "heatmapgl": [
           {
            "colorbar": {
             "outlinewidth": 0,
             "ticks": ""
            },
            "colorscale": [
             [
              0,
              "#0d0887"
             ],
             [
              0.1111111111111111,
              "#46039f"
             ],
             [
              0.2222222222222222,
              "#7201a8"
             ],
             [
              0.3333333333333333,
              "#9c179e"
             ],
             [
              0.4444444444444444,
              "#bd3786"
             ],
             [
              0.5555555555555556,
              "#d8576b"
             ],
             [
              0.6666666666666666,
              "#ed7953"
             ],
             [
              0.7777777777777778,
              "#fb9f3a"
             ],
             [
              0.8888888888888888,
              "#fdca26"
             ],
             [
              1,
              "#f0f921"
             ]
            ],
            "type": "heatmapgl"
           }
          ],
          "histogram": [
           {
            "marker": {
             "pattern": {
              "fillmode": "overlay",
              "size": 10,
              "solidity": 0.2
             }
            },
            "type": "histogram"
           }
          ],
          "histogram2d": [
           {
            "colorbar": {
             "outlinewidth": 0,
             "ticks": ""
            },
            "colorscale": [
             [
              0,
              "#0d0887"
             ],
             [
              0.1111111111111111,
              "#46039f"
             ],
             [
              0.2222222222222222,
              "#7201a8"
             ],
             [
              0.3333333333333333,
              "#9c179e"
             ],
             [
              0.4444444444444444,
              "#bd3786"
             ],
             [
              0.5555555555555556,
              "#d8576b"
             ],
             [
              0.6666666666666666,
              "#ed7953"
             ],
             [
              0.7777777777777778,
              "#fb9f3a"
             ],
             [
              0.8888888888888888,
              "#fdca26"
             ],
             [
              1,
              "#f0f921"
             ]
            ],
            "type": "histogram2d"
           }
          ],
          "histogram2dcontour": [
           {
            "colorbar": {
             "outlinewidth": 0,
             "ticks": ""
            },
            "colorscale": [
             [
              0,
              "#0d0887"
             ],
             [
              0.1111111111111111,
              "#46039f"
             ],
             [
              0.2222222222222222,
              "#7201a8"
             ],
             [
              0.3333333333333333,
              "#9c179e"
             ],
             [
              0.4444444444444444,
              "#bd3786"
             ],
             [
              0.5555555555555556,
              "#d8576b"
             ],
             [
              0.6666666666666666,
              "#ed7953"
             ],
             [
              0.7777777777777778,
              "#fb9f3a"
             ],
             [
              0.8888888888888888,
              "#fdca26"
             ],
             [
              1,
              "#f0f921"
             ]
            ],
            "type": "histogram2dcontour"
           }
          ],
          "mesh3d": [
           {
            "colorbar": {
             "outlinewidth": 0,
             "ticks": ""
            },
            "type": "mesh3d"
           }
          ],
          "parcoords": [
           {
            "line": {
             "colorbar": {
              "outlinewidth": 0,
              "ticks": ""
             }
            },
            "type": "parcoords"
           }
          ],
          "pie": [
           {
            "automargin": true,
            "type": "pie"
           }
          ],
          "scatter": [
           {
            "fillpattern": {
             "fillmode": "overlay",
             "size": 10,
             "solidity": 0.2
            },
            "type": "scatter"
           }
          ],
          "scatter3d": [
           {
            "line": {
             "colorbar": {
              "outlinewidth": 0,
              "ticks": ""
             }
            },
            "marker": {
             "colorbar": {
              "outlinewidth": 0,
              "ticks": ""
             }
            },
            "type": "scatter3d"
           }
          ],
          "scattercarpet": [
           {
            "marker": {
             "colorbar": {
              "outlinewidth": 0,
              "ticks": ""
             }
            },
            "type": "scattercarpet"
           }
          ],
          "scattergeo": [
           {
            "marker": {
             "colorbar": {
              "outlinewidth": 0,
              "ticks": ""
             }
            },
            "type": "scattergeo"
           }
          ],
          "scattergl": [
           {
            "marker": {
             "colorbar": {
              "outlinewidth": 0,
              "ticks": ""
             }
            },
            "type": "scattergl"
           }
          ],
          "scattermapbox": [
           {
            "marker": {
             "colorbar": {
              "outlinewidth": 0,
              "ticks": ""
             }
            },
            "type": "scattermapbox"
           }
          ],
          "scatterpolar": [
           {
            "marker": {
             "colorbar": {
              "outlinewidth": 0,
              "ticks": ""
             }
            },
            "type": "scatterpolar"
           }
          ],
          "scatterpolargl": [
           {
            "marker": {
             "colorbar": {
              "outlinewidth": 0,
              "ticks": ""
             }
            },
            "type": "scatterpolargl"
           }
          ],
          "scatterternary": [
           {
            "marker": {
             "colorbar": {
              "outlinewidth": 0,
              "ticks": ""
             }
            },
            "type": "scatterternary"
           }
          ],
          "surface": [
           {
            "colorbar": {
             "outlinewidth": 0,
             "ticks": ""
            },
            "colorscale": [
             [
              0,
              "#0d0887"
             ],
             [
              0.1111111111111111,
              "#46039f"
             ],
             [
              0.2222222222222222,
              "#7201a8"
             ],
             [
              0.3333333333333333,
              "#9c179e"
             ],
             [
              0.4444444444444444,
              "#bd3786"
             ],
             [
              0.5555555555555556,
              "#d8576b"
             ],
             [
              0.6666666666666666,
              "#ed7953"
             ],
             [
              0.7777777777777778,
              "#fb9f3a"
             ],
             [
              0.8888888888888888,
              "#fdca26"
             ],
             [
              1,
              "#f0f921"
             ]
            ],
            "type": "surface"
           }
          ],
          "table": [
           {
            "cells": {
             "fill": {
              "color": "#EBF0F8"
             },
             "line": {
              "color": "white"
             }
            },
            "header": {
             "fill": {
              "color": "#C8D4E3"
             },
             "line": {
              "color": "white"
             }
            },
            "type": "table"
           }
          ]
         },
         "layout": {
          "annotationdefaults": {
           "arrowcolor": "#2a3f5f",
           "arrowhead": 0,
           "arrowwidth": 1
          },
          "autotypenumbers": "strict",
          "coloraxis": {
           "colorbar": {
            "outlinewidth": 0,
            "ticks": ""
           }
          },
          "colorscale": {
           "diverging": [
            [
             0,
             "#8e0152"
            ],
            [
             0.1,
             "#c51b7d"
            ],
            [
             0.2,
             "#de77ae"
            ],
            [
             0.3,
             "#f1b6da"
            ],
            [
             0.4,
             "#fde0ef"
            ],
            [
             0.5,
             "#f7f7f7"
            ],
            [
             0.6,
             "#e6f5d0"
            ],
            [
             0.7,
             "#b8e186"
            ],
            [
             0.8,
             "#7fbc41"
            ],
            [
             0.9,
             "#4d9221"
            ],
            [
             1,
             "#276419"
            ]
           ],
           "sequential": [
            [
             0,
             "#0d0887"
            ],
            [
             0.1111111111111111,
             "#46039f"
            ],
            [
             0.2222222222222222,
             "#7201a8"
            ],
            [
             0.3333333333333333,
             "#9c179e"
            ],
            [
             0.4444444444444444,
             "#bd3786"
            ],
            [
             0.5555555555555556,
             "#d8576b"
            ],
            [
             0.6666666666666666,
             "#ed7953"
            ],
            [
             0.7777777777777778,
             "#fb9f3a"
            ],
            [
             0.8888888888888888,
             "#fdca26"
            ],
            [
             1,
             "#f0f921"
            ]
           ],
           "sequentialminus": [
            [
             0,
             "#0d0887"
            ],
            [
             0.1111111111111111,
             "#46039f"
            ],
            [
             0.2222222222222222,
             "#7201a8"
            ],
            [
             0.3333333333333333,
             "#9c179e"
            ],
            [
             0.4444444444444444,
             "#bd3786"
            ],
            [
             0.5555555555555556,
             "#d8576b"
            ],
            [
             0.6666666666666666,
             "#ed7953"
            ],
            [
             0.7777777777777778,
             "#fb9f3a"
            ],
            [
             0.8888888888888888,
             "#fdca26"
            ],
            [
             1,
             "#f0f921"
            ]
           ]
          },
          "colorway": [
           "#636efa",
           "#EF553B",
           "#00cc96",
           "#ab63fa",
           "#FFA15A",
           "#19d3f3",
           "#FF6692",
           "#B6E880",
           "#FF97FF",
           "#FECB52"
          ],
          "font": {
           "color": "#2a3f5f"
          },
          "geo": {
           "bgcolor": "white",
           "lakecolor": "white",
           "landcolor": "#E5ECF6",
           "showlakes": true,
           "showland": true,
           "subunitcolor": "white"
          },
          "hoverlabel": {
           "align": "left"
          },
          "hovermode": "closest",
          "mapbox": {
           "style": "light"
          },
          "paper_bgcolor": "white",
          "plot_bgcolor": "#E5ECF6",
          "polar": {
           "angularaxis": {
            "gridcolor": "white",
            "linecolor": "white",
            "ticks": ""
           },
           "bgcolor": "#E5ECF6",
           "radialaxis": {
            "gridcolor": "white",
            "linecolor": "white",
            "ticks": ""
           }
          },
          "scene": {
           "xaxis": {
            "backgroundcolor": "#E5ECF6",
            "gridcolor": "white",
            "gridwidth": 2,
            "linecolor": "white",
            "showbackground": true,
            "ticks": "",
            "zerolinecolor": "white"
           },
           "yaxis": {
            "backgroundcolor": "#E5ECF6",
            "gridcolor": "white",
            "gridwidth": 2,
            "linecolor": "white",
            "showbackground": true,
            "ticks": "",
            "zerolinecolor": "white"
           },
           "zaxis": {
            "backgroundcolor": "#E5ECF6",
            "gridcolor": "white",
            "gridwidth": 2,
            "linecolor": "white",
            "showbackground": true,
            "ticks": "",
            "zerolinecolor": "white"
           }
          },
          "shapedefaults": {
           "line": {
            "color": "#2a3f5f"
           }
          },
          "ternary": {
           "aaxis": {
            "gridcolor": "white",
            "linecolor": "white",
            "ticks": ""
           },
           "baxis": {
            "gridcolor": "white",
            "linecolor": "white",
            "ticks": ""
           },
           "bgcolor": "#E5ECF6",
           "caxis": {
            "gridcolor": "white",
            "linecolor": "white",
            "ticks": ""
           }
          },
          "title": {
           "x": 0.05
          },
          "xaxis": {
           "automargin": true,
           "gridcolor": "white",
           "linecolor": "white",
           "ticks": "",
           "title": {
            "standoff": 15
           },
           "zerolinecolor": "white",
           "zerolinewidth": 2
          },
          "yaxis": {
           "automargin": true,
           "gridcolor": "white",
           "linecolor": "white",
           "ticks": "",
           "title": {
            "standoff": 15
           },
           "zerolinecolor": "white",
           "zerolinewidth": 2
          }
         }
        },
        "xaxis": {
         "anchor": "y",
         "domain": [
          0,
          1
         ],
         "title": {
          "text": "word"
         }
        },
        "yaxis": {
         "anchor": "x",
         "domain": [
          0,
          1
         ],
         "title": {
          "text": "amount"
         }
        }
       }
      },
      "text/html": [
       "<div>                        <script type=\"text/javascript\">window.PlotlyConfig = {MathJaxConfig: 'local'};</script>\n",
       "        <script charset=\"utf-8\" src=\"https://cdn.plot.ly/plotly-2.26.0.min.js\"></script>                <div id=\"4bf56874-0f09-4c51-99e1-bf1e89714f61\" class=\"plotly-graph-div\" style=\"height:100%; width:100%;\"></div>            <script type=\"text/javascript\">                                    window.PLOTLYENV=window.PLOTLYENV || {};                                    if (document.getElementById(\"4bf56874-0f09-4c51-99e1-bf1e89714f61\")) {                    Plotly.newPlot(                        \"4bf56874-0f09-4c51-99e1-bf1e89714f61\",                        [{\"alignmentgroup\":\"True\",\"hovertemplate\":\"word=%{x}\\u003cbr\\u003eamount=%{y}\\u003cextra\\u003e\\u003c\\u002fextra\\u003e\",\"legendgroup\":\"\",\"marker\":{\"color\":\"#636efa\",\"pattern\":{\"shape\":\"\"}},\"name\":\"\",\"offsetgroup\":\"\",\"orientation\":\"v\",\"showlegend\":false,\"textposition\":\"auto\",\"x\":[\"customer\",\"Amazon\",\"year\",\"business\",\"million\",\"u\",\"new\",\"Amazon.com\",\"time\",\"work\",\"investment\",\"Prime\",\"company\",\"product\",\"AWS\"],\"xaxis\":\"x\",\"y\":[665,357,299,216,202,190,176,169,164,160,152,152,147,142,141],\"yaxis\":\"y\",\"type\":\"bar\"}],                        {\"template\":{\"data\":{\"histogram2dcontour\":[{\"type\":\"histogram2dcontour\",\"colorbar\":{\"outlinewidth\":0,\"ticks\":\"\"},\"colorscale\":[[0.0,\"#0d0887\"],[0.1111111111111111,\"#46039f\"],[0.2222222222222222,\"#7201a8\"],[0.3333333333333333,\"#9c179e\"],[0.4444444444444444,\"#bd3786\"],[0.5555555555555556,\"#d8576b\"],[0.6666666666666666,\"#ed7953\"],[0.7777777777777778,\"#fb9f3a\"],[0.8888888888888888,\"#fdca26\"],[1.0,\"#f0f921\"]]}],\"choropleth\":[{\"type\":\"choropleth\",\"colorbar\":{\"outlinewidth\":0,\"ticks\":\"\"}}],\"histogram2d\":[{\"type\":\"histogram2d\",\"colorbar\":{\"outlinewidth\":0,\"ticks\":\"\"},\"colorscale\":[[0.0,\"#0d0887\"],[0.1111111111111111,\"#46039f\"],[0.2222222222222222,\"#7201a8\"],[0.3333333333333333,\"#9c179e\"],[0.4444444444444444,\"#bd3786\"],[0.5555555555555556,\"#d8576b\"],[0.6666666666666666,\"#ed7953\"],[0.7777777777777778,\"#fb9f3a\"],[0.8888888888888888,\"#fdca26\"],[1.0,\"#f0f921\"]]}],\"heatmap\":[{\"type\":\"heatmap\",\"colorbar\":{\"outlinewidth\":0,\"ticks\":\"\"},\"colorscale\":[[0.0,\"#0d0887\"],[0.1111111111111111,\"#46039f\"],[0.2222222222222222,\"#7201a8\"],[0.3333333333333333,\"#9c179e\"],[0.4444444444444444,\"#bd3786\"],[0.5555555555555556,\"#d8576b\"],[0.6666666666666666,\"#ed7953\"],[0.7777777777777778,\"#fb9f3a\"],[0.8888888888888888,\"#fdca26\"],[1.0,\"#f0f921\"]]}],\"heatmapgl\":[{\"type\":\"heatmapgl\",\"colorbar\":{\"outlinewidth\":0,\"ticks\":\"\"},\"colorscale\":[[0.0,\"#0d0887\"],[0.1111111111111111,\"#46039f\"],[0.2222222222222222,\"#7201a8\"],[0.3333333333333333,\"#9c179e\"],[0.4444444444444444,\"#bd3786\"],[0.5555555555555556,\"#d8576b\"],[0.6666666666666666,\"#ed7953\"],[0.7777777777777778,\"#fb9f3a\"],[0.8888888888888888,\"#fdca26\"],[1.0,\"#f0f921\"]]}],\"contourcarpet\":[{\"type\":\"contourcarpet\",\"colorbar\":{\"outlinewidth\":0,\"ticks\":\"\"}}],\"contour\":[{\"type\":\"contour\",\"colorbar\":{\"outlinewidth\":0,\"ticks\":\"\"},\"colorscale\":[[0.0,\"#0d0887\"],[0.1111111111111111,\"#46039f\"],[0.2222222222222222,\"#7201a8\"],[0.3333333333333333,\"#9c179e\"],[0.4444444444444444,\"#bd3786\"],[0.5555555555555556,\"#d8576b\"],[0.6666666666666666,\"#ed7953\"],[0.7777777777777778,\"#fb9f3a\"],[0.8888888888888888,\"#fdca26\"],[1.0,\"#f0f921\"]]}],\"surface\":[{\"type\":\"surface\",\"colorbar\":{\"outlinewidth\":0,\"ticks\":\"\"},\"colorscale\":[[0.0,\"#0d0887\"],[0.1111111111111111,\"#46039f\"],[0.2222222222222222,\"#7201a8\"],[0.3333333333333333,\"#9c179e\"],[0.4444444444444444,\"#bd3786\"],[0.5555555555555556,\"#d8576b\"],[0.6666666666666666,\"#ed7953\"],[0.7777777777777778,\"#fb9f3a\"],[0.8888888888888888,\"#fdca26\"],[1.0,\"#f0f921\"]]}],\"mesh3d\":[{\"type\":\"mesh3d\",\"colorbar\":{\"outlinewidth\":0,\"ticks\":\"\"}}],\"scatter\":[{\"fillpattern\":{\"fillmode\":\"overlay\",\"size\":10,\"solidity\":0.2},\"type\":\"scatter\"}],\"parcoords\":[{\"type\":\"parcoords\",\"line\":{\"colorbar\":{\"outlinewidth\":0,\"ticks\":\"\"}}}],\"scatterpolargl\":[{\"type\":\"scatterpolargl\",\"marker\":{\"colorbar\":{\"outlinewidth\":0,\"ticks\":\"\"}}}],\"bar\":[{\"error_x\":{\"color\":\"#2a3f5f\"},\"error_y\":{\"color\":\"#2a3f5f\"},\"marker\":{\"line\":{\"color\":\"#E5ECF6\",\"width\":0.5},\"pattern\":{\"fillmode\":\"overlay\",\"size\":10,\"solidity\":0.2}},\"type\":\"bar\"}],\"scattergeo\":[{\"type\":\"scattergeo\",\"marker\":{\"colorbar\":{\"outlinewidth\":0,\"ticks\":\"\"}}}],\"scatterpolar\":[{\"type\":\"scatterpolar\",\"marker\":{\"colorbar\":{\"outlinewidth\":0,\"ticks\":\"\"}}}],\"histogram\":[{\"marker\":{\"pattern\":{\"fillmode\":\"overlay\",\"size\":10,\"solidity\":0.2}},\"type\":\"histogram\"}],\"scattergl\":[{\"type\":\"scattergl\",\"marker\":{\"colorbar\":{\"outlinewidth\":0,\"ticks\":\"\"}}}],\"scatter3d\":[{\"type\":\"scatter3d\",\"line\":{\"colorbar\":{\"outlinewidth\":0,\"ticks\":\"\"}},\"marker\":{\"colorbar\":{\"outlinewidth\":0,\"ticks\":\"\"}}}],\"scattermapbox\":[{\"type\":\"scattermapbox\",\"marker\":{\"colorbar\":{\"outlinewidth\":0,\"ticks\":\"\"}}}],\"scatterternary\":[{\"type\":\"scatterternary\",\"marker\":{\"colorbar\":{\"outlinewidth\":0,\"ticks\":\"\"}}}],\"scattercarpet\":[{\"type\":\"scattercarpet\",\"marker\":{\"colorbar\":{\"outlinewidth\":0,\"ticks\":\"\"}}}],\"carpet\":[{\"aaxis\":{\"endlinecolor\":\"#2a3f5f\",\"gridcolor\":\"white\",\"linecolor\":\"white\",\"minorgridcolor\":\"white\",\"startlinecolor\":\"#2a3f5f\"},\"baxis\":{\"endlinecolor\":\"#2a3f5f\",\"gridcolor\":\"white\",\"linecolor\":\"white\",\"minorgridcolor\":\"white\",\"startlinecolor\":\"#2a3f5f\"},\"type\":\"carpet\"}],\"table\":[{\"cells\":{\"fill\":{\"color\":\"#EBF0F8\"},\"line\":{\"color\":\"white\"}},\"header\":{\"fill\":{\"color\":\"#C8D4E3\"},\"line\":{\"color\":\"white\"}},\"type\":\"table\"}],\"barpolar\":[{\"marker\":{\"line\":{\"color\":\"#E5ECF6\",\"width\":0.5},\"pattern\":{\"fillmode\":\"overlay\",\"size\":10,\"solidity\":0.2}},\"type\":\"barpolar\"}],\"pie\":[{\"automargin\":true,\"type\":\"pie\"}]},\"layout\":{\"autotypenumbers\":\"strict\",\"colorway\":[\"#636efa\",\"#EF553B\",\"#00cc96\",\"#ab63fa\",\"#FFA15A\",\"#19d3f3\",\"#FF6692\",\"#B6E880\",\"#FF97FF\",\"#FECB52\"],\"font\":{\"color\":\"#2a3f5f\"},\"hovermode\":\"closest\",\"hoverlabel\":{\"align\":\"left\"},\"paper_bgcolor\":\"white\",\"plot_bgcolor\":\"#E5ECF6\",\"polar\":{\"bgcolor\":\"#E5ECF6\",\"angularaxis\":{\"gridcolor\":\"white\",\"linecolor\":\"white\",\"ticks\":\"\"},\"radialaxis\":{\"gridcolor\":\"white\",\"linecolor\":\"white\",\"ticks\":\"\"}},\"ternary\":{\"bgcolor\":\"#E5ECF6\",\"aaxis\":{\"gridcolor\":\"white\",\"linecolor\":\"white\",\"ticks\":\"\"},\"baxis\":{\"gridcolor\":\"white\",\"linecolor\":\"white\",\"ticks\":\"\"},\"caxis\":{\"gridcolor\":\"white\",\"linecolor\":\"white\",\"ticks\":\"\"}},\"coloraxis\":{\"colorbar\":{\"outlinewidth\":0,\"ticks\":\"\"}},\"colorscale\":{\"sequential\":[[0.0,\"#0d0887\"],[0.1111111111111111,\"#46039f\"],[0.2222222222222222,\"#7201a8\"],[0.3333333333333333,\"#9c179e\"],[0.4444444444444444,\"#bd3786\"],[0.5555555555555556,\"#d8576b\"],[0.6666666666666666,\"#ed7953\"],[0.7777777777777778,\"#fb9f3a\"],[0.8888888888888888,\"#fdca26\"],[1.0,\"#f0f921\"]],\"sequentialminus\":[[0.0,\"#0d0887\"],[0.1111111111111111,\"#46039f\"],[0.2222222222222222,\"#7201a8\"],[0.3333333333333333,\"#9c179e\"],[0.4444444444444444,\"#bd3786\"],[0.5555555555555556,\"#d8576b\"],[0.6666666666666666,\"#ed7953\"],[0.7777777777777778,\"#fb9f3a\"],[0.8888888888888888,\"#fdca26\"],[1.0,\"#f0f921\"]],\"diverging\":[[0,\"#8e0152\"],[0.1,\"#c51b7d\"],[0.2,\"#de77ae\"],[0.3,\"#f1b6da\"],[0.4,\"#fde0ef\"],[0.5,\"#f7f7f7\"],[0.6,\"#e6f5d0\"],[0.7,\"#b8e186\"],[0.8,\"#7fbc41\"],[0.9,\"#4d9221\"],[1,\"#276419\"]]},\"xaxis\":{\"gridcolor\":\"white\",\"linecolor\":\"white\",\"ticks\":\"\",\"title\":{\"standoff\":15},\"zerolinecolor\":\"white\",\"automargin\":true,\"zerolinewidth\":2},\"yaxis\":{\"gridcolor\":\"white\",\"linecolor\":\"white\",\"ticks\":\"\",\"title\":{\"standoff\":15},\"zerolinecolor\":\"white\",\"automargin\":true,\"zerolinewidth\":2},\"scene\":{\"xaxis\":{\"backgroundcolor\":\"#E5ECF6\",\"gridcolor\":\"white\",\"linecolor\":\"white\",\"showbackground\":true,\"ticks\":\"\",\"zerolinecolor\":\"white\",\"gridwidth\":2},\"yaxis\":{\"backgroundcolor\":\"#E5ECF6\",\"gridcolor\":\"white\",\"linecolor\":\"white\",\"showbackground\":true,\"ticks\":\"\",\"zerolinecolor\":\"white\",\"gridwidth\":2},\"zaxis\":{\"backgroundcolor\":\"#E5ECF6\",\"gridcolor\":\"white\",\"linecolor\":\"white\",\"showbackground\":true,\"ticks\":\"\",\"zerolinecolor\":\"white\",\"gridwidth\":2}},\"shapedefaults\":{\"line\":{\"color\":\"#2a3f5f\"}},\"annotationdefaults\":{\"arrowcolor\":\"#2a3f5f\",\"arrowhead\":0,\"arrowwidth\":1},\"geo\":{\"bgcolor\":\"white\",\"landcolor\":\"#E5ECF6\",\"subunitcolor\":\"white\",\"showland\":true,\"showlakes\":true,\"lakecolor\":\"white\"},\"title\":{\"x\":0.05},\"mapbox\":{\"style\":\"light\"}}},\"xaxis\":{\"anchor\":\"y\",\"domain\":[0.0,1.0],\"title\":{\"text\":\"word\"}},\"yaxis\":{\"anchor\":\"x\",\"domain\":[0.0,1.0],\"title\":{\"text\":\"amount\"}},\"legend\":{\"tracegroupgap\":0},\"margin\":{\"t\":60},\"barmode\":\"relative\"},                        {\"responsive\": true}                    )                };                            </script>        </div>"
      ],
      "text/plain": [
       "Figure({\n",
       "    'data': [{'alignmentgroup': 'True',\n",
       "              'hovertemplate': 'word=%{x}<br>amount=%{y}<extra></extra>',\n",
       "              'legendgroup': '',\n",
       "              'marker': {'color': '#636efa', 'pattern': {'shape': ''}},\n",
       "              'name': '',\n",
       "              'offsetgroup': '',\n",
       "              'orientation': 'v',\n",
       "              'showlegend': False,\n",
       "              'textposition': 'auto',\n",
       "              'type': 'bar',\n",
       "              'x': array(['customer', 'Amazon', 'year', 'business', 'million', 'u', 'new',\n",
       "                          'Amazon.com', 'time', 'work', 'investment', 'Prime', 'company',\n",
       "                          'product', 'AWS'], dtype=object),\n",
       "              'xaxis': 'x',\n",
       "              'y': array([665, 357, 299, 216, 202, 190, 176, 169, 164, 160, 152, 152, 147, 142,\n",
       "                          141], dtype=int64),\n",
       "              'yaxis': 'y'}],\n",
       "    'layout': {'barmode': 'relative',\n",
       "               'legend': {'tracegroupgap': 0},\n",
       "               'margin': {'t': 60},\n",
       "               'template': '...',\n",
       "               'xaxis': {'anchor': 'y', 'domain': [0.0, 1.0], 'title': {'text': 'word'}},\n",
       "               'yaxis': {'anchor': 'x', 'domain': [0.0, 1.0], 'title': {'text': 'amount'}}}\n",
       "})"
      ]
     },
     "execution_count": 28,
     "metadata": {},
     "output_type": "execute_result"
    }
   ],
   "source": [
    "import plotly.express as px\n",
    "(\n",
    "    pd.DataFrame.from_records(dist.most_common(15), columns=['word', 'amount'])\n",
    "    .pipe(lambda x: px.bar(data_frame=x, x='word', y='amount'))\n",
    ")"
   ]
  },
  {
   "cell_type": "code",
   "execution_count": 18,
   "metadata": {},
   "outputs": [
    {
     "data": {
      "image/png": "[encoded data removed]",
      "text/plain": [
       "<Figure size 640x480 with 1 Axes>"
      ]
     },
     "metadata": {},
     "output_type": "display_data"
    }
   ],
   "source": [
    "ax = dist.plot(10);"
   ]
  },
  {
   "cell_type": "code",
   "execution_count": 11,
   "metadata": {},
   "outputs": [
    {
     "data": {
      "text/html": [
       "<div>\n",
       "<style scoped>\n",
       "    .dataframe tbody tr th:only-of-type {\n",
       "        vertical-align: middle;\n",
       "    }\n",
       "\n",
       "    .dataframe tbody tr th {\n",
       "        vertical-align: top;\n",
       "    }\n",
       "\n",
       "    .dataframe thead th {\n",
       "        text-align: right;\n",
       "    }\n",
       "</style>\n",
       "<table border=\"1\" class=\"dataframe\">\n",
       "  <thead>\n",
       "    <tr style=\"text-align: right;\">\n",
       "      <th></th>\n",
       "      <th>pagenumber</th>\n",
       "      <th>text</th>\n",
       "      <th>fname</th>\n",
       "      <th>ncharacters</th>\n",
       "      <th>is1997letter</th>\n",
       "      <th>year</th>\n",
       "    </tr>\n",
       "  </thead>\n",
       "  <tbody>\n",
       "    <tr>\n",
       "      <th>0</th>\n",
       "      <td>1</td>\n",
       "      <td>\\n  \\n \\n \\nTo our shareholders:    Amazon.co...</td>\n",
       "      <td>data\\Letter_1998.pdf</td>\n",
       "      <td>2392</td>\n",
       "      <td>False</td>\n",
       "      <td>1998</td>\n",
       "    </tr>\n",
       "    <tr>\n",
       "      <th>1</th>\n",
       "      <td>2</td>\n",
       "      <td>\\n  Because of our emphasis on the long term,...</td>\n",
       "      <td>data\\Letter_1998.pdf</td>\n",
       "      <td>2333</td>\n",
       "      <td>False</td>\n",
       "      <td>1998</td>\n",
       "    </tr>\n",
       "    <tr>\n",
       "      <th>2</th>\n",
       "      <td>3</td>\n",
       "      <td>\\n  We aren't so bold as to claim that the ab...</td>\n",
       "      <td>data\\Letter_1998.pdf</td>\n",
       "      <td>2170</td>\n",
       "      <td>False</td>\n",
       "      <td>1998</td>\n",
       "    </tr>\n",
       "    <tr>\n",
       "      <th>3</th>\n",
       "      <td>4</td>\n",
       "      <td>\\n   Infrastructure \\n   During 1997, we work...</td>\n",
       "      <td>data\\Letter_1998.pdf</td>\n",
       "      <td>2385</td>\n",
       "      <td>False</td>\n",
       "      <td>1998</td>\n",
       "    </tr>\n",
       "    <tr>\n",
       "      <th>4</th>\n",
       "      <td>5</td>\n",
       "      <td>\\n  We now know vastly more about online comm...</td>\n",
       "      <td>data\\Letter_1998.pdf</td>\n",
       "      <td>1294</td>\n",
       "      <td>False</td>\n",
       "      <td>1998</td>\n",
       "    </tr>\n",
       "    <tr>\n",
       "      <th>...</th>\n",
       "      <td>...</td>\n",
       "      <td>...</td>\n",
       "      <td>...</td>\n",
       "      <td>...</td>\n",
       "      <td>...</td>\n",
       "      <td>...</td>\n",
       "    </tr>\n",
       "    <tr>\n",
       "      <th>5</th>\n",
       "      <td>6</td>\n",
       "      <td>month flat fee, enables Prime members to get a...</td>\n",
       "      <td>data\\Letter_2023.pdf</td>\n",
       "      <td>5549</td>\n",
       "      <td>False</td>\n",
       "      <td>2023</td>\n",
       "    </tr>\n",
       "    <tr>\n",
       "      <th>6</th>\n",
       "      <td>7</td>\n",
       "      <td>developer productivity by generating code sugg...</td>\n",
       "      <td>data\\Letter_2023.pdf</td>\n",
       "      <td>1671</td>\n",
       "      <td>False</td>\n",
       "      <td>2023</td>\n",
       "    </tr>\n",
       "    <tr>\n",
       "      <th>7</th>\n",
       "      <td>8</td>\n",
       "      <td>1997 LETTER TO SHAREHOLDERS\\n(Reprinted from t...</td>\n",
       "      <td>data\\Letter_2023.pdf</td>\n",
       "      <td>3250</td>\n",
       "      <td>True</td>\n",
       "      <td>2023</td>\n",
       "    </tr>\n",
       "    <tr>\n",
       "      <th>8</th>\n",
       "      <td>9</td>\n",
       "      <td>• We will make bold rather than timid investme...</td>\n",
       "      <td>data\\Letter_2023.pdf</td>\n",
       "      <td>3502</td>\n",
       "      <td>True</td>\n",
       "      <td>2023</td>\n",
       "    </tr>\n",
       "    <tr>\n",
       "      <th>9</th>\n",
       "      <td>10</td>\n",
       "      <td>Infrastructure\\nDuring 1997, we worked hard to...</td>\n",
       "      <td>data\\Letter_2023.pdf</td>\n",
       "      <td>3390</td>\n",
       "      <td>True</td>\n",
       "      <td>2023</td>\n",
       "    </tr>\n",
       "  </tbody>\n",
       "</table>\n",
       "<p>180 rows × 6 columns</p>\n",
       "</div>"
      ],
      "text/plain": [
       "    pagenumber                                               text  \\\n",
       "0            1   \\n  \\n \\n \\nTo our shareholders:    Amazon.co...   \n",
       "1            2   \\n  Because of our emphasis on the long term,...   \n",
       "2            3   \\n  We aren't so bold as to claim that the ab...   \n",
       "3            4   \\n   Infrastructure \\n   During 1997, we work...   \n",
       "4            5   \\n  We now know vastly more about online comm...   \n",
       "..         ...                                                ...   \n",
       "5            6  month flat fee, enables Prime members to get a...   \n",
       "6            7  developer productivity by generating code sugg...   \n",
       "7            8  1997 LETTER TO SHAREHOLDERS\\n(Reprinted from t...   \n",
       "8            9  • We will make bold rather than timid investme...   \n",
       "9           10  Infrastructure\\nDuring 1997, we worked hard to...   \n",
       "\n",
       "                   fname  ncharacters  is1997letter  year  \n",
       "0   data\\Letter_1998.pdf         2392         False  1998  \n",
       "1   data\\Letter_1998.pdf         2333         False  1998  \n",
       "2   data\\Letter_1998.pdf         2170         False  1998  \n",
       "3   data\\Letter_1998.pdf         2385         False  1998  \n",
       "4   data\\Letter_1998.pdf         1294         False  1998  \n",
       "..                   ...          ...           ...   ...  \n",
       "5   data\\Letter_2023.pdf         5549         False  2023  \n",
       "6   data\\Letter_2023.pdf         1671         False  2023  \n",
       "7   data\\Letter_2023.pdf         3250          True  2023  \n",
       "8   data\\Letter_2023.pdf         3502          True  2023  \n",
       "9   data\\Letter_2023.pdf         3390          True  2023  \n",
       "\n",
       "[180 rows x 6 columns]"
      ]
     },
     "execution_count": 11,
     "metadata": {},
     "output_type": "execute_result"
    }
   ],
   "source": [
    "alldata"
   ]
  },
  {
   "cell_type": "code",
   "execution_count": 16,
   "metadata": {},
   "outputs": [
    {
     "name": "stdout",
     "output_type": "stream",
     "text": [
      "Displaying 25 of 246 matches:\n",
      "icative of our market leadership : customer and revenue growth , the degree to\n",
      "ssively to expand and leverage our customer base , brand , and infrastructure \n",
      "owered prices , further increasing customer value . Word of mouth remains the \n",
      "of mouth remains the most powerful customer acquisition tool we have , and we \n",
      "- an 838 % increase . • Cumulative customer accounts grew from 180,000 to 1,51\n",
      " solidify and extend our brand and customer base . This requires sustained inv\n",
      "rastructure to support outstanding customer convenience , selection , and serv\n",
      "ery times and better tailoring the customer experience . To be certain , a big\n",
      " – a 313 % increase . • Cumulative customer accounts grew from 1.5 million at \n",
      " 300 % . • Despite this strong new customer growth , the percentage of orders \n",
      " . • We significantly improved the customer experience , with innovations like\n",
      "mmendations . 1998 ’ s revenue and customer growth and achievement of continue\n",
      "eam . • We opened distribution and customer service centers in the U.K. and Ge\n",
      "innovation and relentless focus on customer experience , and we believe our in\n",
      "eping a billion dollar , 8 million customer store up and available on a 24x7 b\n",
      "ensure that we build wide , strong customer relationships during this critical\n",
      "he Auctions tab . As an Amazon.com customer , you are pre-registered to both b\n",
      "icative of our market leadership : customer and revenue growth , the degree to\n",
      "ssively to expand and leverage our customer base , brand , and infrastructure \n",
      "owered prices , further increasing customer value . Word of mouth remains the \n",
      "of mouth remains the most powerful customer acquisition tool we have , and we \n",
      "– an 838 % increase . • Cumulative customer accounts grew from 180,000 to 1,51\n",
      " solidify and extend our brand and customer base . This requires sustained inv\n",
      "rastructure to support outstanding customer convenience , selection , and serv\n",
      "ery times and better tailoring the customer experience . To be certain , a big\n"
     ]
    }
   ],
   "source": [
    "from nltk.text import Text\n",
    "Text(wholetext).concordance('customer')"
   ]
  },
  {
   "cell_type": "code",
   "execution_count": 13,
   "metadata": {},
   "outputs": [
    {
     "data": {
      "text/plain": [
       "[ConcordanceLine(left=['this', 'focus', '.', 'We', 'first', 'measure', 'ourselves', 'in', 'terms', 'of', 'the', 'metrics', 'most', 'indicative', 'of', 'our', 'market', 'leadership', ':'], query='customer', right=['and', 'revenue', 'growth', ',', 'the', 'degree', 'to', 'which', 'our', 'customers', 'continue', 'to', 'purchase', 'from', 'us', 'on', 'a', 'repeat'], offset=354, left_print='icative of our market leadership :', right_print='and revenue growth , the degree to', line='icative of our market leadership : customer and revenue growth , the degree to'),\n",
       " ConcordanceLine(left=['strength', 'of', 'our', 'brand', '.', 'We', 'have', 'invested', 'and', 'will', 'continue', 'to', 'invest', 'aggressively', 'to', 'expand', 'and', 'leverage', 'our'], query='customer', right=['base', ',', 'brand', ',', 'and', 'infrastructure', 'as', 'we', 'move', 'to', 'establish', 'an', 'enduring', 'franchise', '.', 'Because', 'of', 'our'], offset=396, left_print='ssively to expand and leverage our', right_print='base , brand , and infrastructure ', line='ssively to expand and leverage our customer base , brand , and infrastructure '),\n",
       " ConcordanceLine(left=['more', 'reviews', ',', 'content', ',', 'browsing', 'options', ',', 'and', 'recommendation', 'features', '.', 'We', 'dramatically', 'lowered', 'prices', ',', 'further', 'increasing'], query='customer', right=['value', '.', 'Word', 'of', 'mouth', 'remains', 'the', 'most', 'powerful', 'customer', 'acquisition', 'tool', 'we', 'have', ',', 'and', 'we', 'are'], offset=1044, left_print='owered prices , further increasing', right_print='value . Word of mouth remains the ', line='owered prices , further increasing customer value . Word of mouth remains the '),\n",
       " ConcordanceLine(left=['features', '.', 'We', 'dramatically', 'lowered', 'prices', ',', 'further', 'increasing', 'customer', 'value', '.', 'Word', 'of', 'mouth', 'remains', 'the', 'most', 'powerful'], query='customer', right=['acquisition', 'tool', 'we', 'have', ',', 'and', 'we', 'are', 'grateful', 'for', 'the', 'trust', 'our', 'customers', 'have', 'placed', 'in', 'us'], offset=1054, left_print='of mouth remains the most powerful', right_print='acquisition tool we have , and we ', line='of mouth remains the most powerful customer acquisition tool we have , and we '),\n",
       " ConcordanceLine(left=['grew', 'from', '$', '15.7', 'million', 'in', '1996', 'to', '$', '147.8', 'million', '--', 'an', '838', '%', 'increase', '.', '•', 'Cumulative'], query='customer', right=['accounts', 'grew', 'from', '180,000', 'to', '1,510,000', '--', 'a', '738', '%', 'increase', '.', '•', 'The', 'percentage', 'of', 'orders', 'from'], offset=1125, left_print='- an 838 % increase . • Cumulative', right_print='accounts grew from 180,000 to 1,51', line='- an 838 % increase . • Cumulative customer accounts grew from 180,000 to 1,51'),\n",
       " ConcordanceLine(left=['customers', 'through', 'Internet', 'commerce', 'and', 'merchandising', '.', 'Our', 'goal', 'remains', 'to', 'continue', 'to', 'solidify', 'and', 'extend', 'our', 'brand', 'and'], query='customer', right=['base', '.', 'This', 'requires', 'sustained', 'investment', 'in', 'systems', 'and', 'infrastructure', 'to', 'support', 'outstanding', 'customer', 'convenience', ',', 'selection', ','], offset=1550, left_print=' solidify and extend our brand and', right_print='base . This requires sustained inv', line=' solidify and extend our brand and customer base . This requires sustained inv'),\n",
       " ConcordanceLine(left=['and', 'extend', 'our', 'brand', 'and', 'customer', 'base', '.', 'This', 'requires', 'sustained', 'investment', 'in', 'systems', 'and', 'infrastructure', 'to', 'support', 'outstanding'], query='customer', right=['convenience', ',', 'selection', ',', 'and', 'service', 'while', 'we', 'grow', '.', 'We', 'are', 'planning', 'to', 'add', 'music', 'to', 'our'], offset=1564, left_print='rastructure to support outstanding', right_print='convenience , selection , and serv', line='rastructure to support outstanding customer convenience , selection , and serv'),\n",
       " ConcordanceLine(left=['are', 'significant', 'opportunities', 'to', 'better', 'serve', 'our', 'customers', 'overseas', ',', 'such', 'as', 'reducing', 'delivery', 'times', 'and', 'better', 'tailoring', 'the'], query='customer', right=['experience', '.', 'To', 'be', 'certain', ',', 'a', 'big', 'part', 'of', 'the', 'challenge', 'for', 'us', 'will', 'lie', 'not', 'in'], offset=1622, left_print='ery times and better tailoring the', right_print='experience . To be certain , a big', line='ery times and better tailoring the customer experience . To be certain , a big'),\n",
       " ConcordanceLine(left=['grew', 'from', '$', '148', 'million', 'in', '1997', 'to', '$', '610', 'million', '–', 'a', '313', '%', 'increase', '.', '•', 'Cumulative'], query='customer', right=['accounts', 'grew', 'from', '1.5', 'million', 'at', 'the', 'end', 'of', '1997', 'to', '6.2', 'million', 'at', 'the', 'end', 'of', '1998'], offset=2102, left_print=' – a 313 % increase . • Cumulative', right_print='accounts grew from 1.5 million at ', line=' – a 313 % increase . • Cumulative customer accounts grew from 1.5 million at '),\n",
       " ConcordanceLine(left=['million', 'at', 'the', 'end', 'of', '1998', '–', 'an', 'increase', 'of', 'over', '300', '%', '.', '•', 'Despite', 'this', 'strong', 'new'], query='customer', right=['growth', ',', 'the', 'percentage', 'of', 'orders', 'placed', 'on', 'the', 'Amazon.com', 'Web', 'site', 'by', 'repeat', 'customers', 'grew', 'from', 'over'], offset=2134, left_print=' 300 % . • Despite this strong new', right_print='growth , the percentage of orders ', line=' 300 % . • Despite this strong new customer growth , the percentage of orders '),\n",
       " ConcordanceLine(left=[',', 'video', ',', 'and', 'gift', 'sales', 'on', 'Amazon.com', ',', 'all', 'very', 'new', 'businesses', '.', '•', 'We', 'significantly', 'improved', 'the'], query='customer', right=['experience', ',', 'with', 'innovations', 'like', '1-', 'Click', 'SM', 'shopping', ',', 'Gift', 'Click', ',', 'store-wide', 'sales', 'rank', ',', 'and'], offset=2306, left_print=' . • We significantly improved the', right_print='experience , with innovations like', line=' . • We significantly improved the customer experience , with innovations like'),\n",
       " ConcordanceLine(left=['SM', 'shopping', ',', 'Gift', 'Click', ',', 'store-wide', 'sales', 'rank', ',', 'and', 'instant', 'recommendations', '.', '1998', '’', 's', 'revenue', 'and'], query='customer', right=['growth', 'and', 'achievement', 'of', 'continued', 'growth', 'in', '1999', 'were', 'and', 'are', 'dependent', 'on', 'expansion', 'of', 'our', 'infrastructure', '.'], offset=2333, left_print='mmendations . 1998 ’ s revenue and', right_print='growth and achievement of continue', line='mmendations . 1998 ’ s revenue and customer growth and achievement of continue'),\n",
       " ConcordanceLine(left=['approximately', '600', 'to', 'over', '2,100', ',', 'and', 'we', 'significantly', 'strengthened', 'our', 'management', 'team', '.', '•', 'We', 'opened', 'distribution', 'and'], query='customer', right=['service', 'centers', 'in', 'the', 'U.K.', 'and', 'Germany', ',', 'and', 'in', 'early', '1999', ',', 'announced', 'the', 'lease', 'of', 'a'], offset=2382, left_print='eam . • We opened distribution and', right_print='service centers in the U.K. and Ge', line='eam . • We opened distribution and customer service centers in the U.K. and Ge'),\n",
       " ConcordanceLine(left=['.', 'We', '’', 're', 'proud', 'of', 'the', 'differentiation', 'we', '’', 've', 'built', 'through', 'constant', 'innovation', 'and', 'relentless', 'focus', 'on'], query='customer', right=['experience', ',', 'and', 'we', 'believe', 'our', 'initiatives', 'in', '1998', 'reflect', 'it', ':', 'our', 'music', ',', 'video', ',', 'U.K.'], offset=2846, left_print='innovation and relentless focus on', right_print='experience , and we believe our in', line='innovation and relentless focus on customer experience , and we believe our in'),\n",
       " ConcordanceLine(left=['new', 'innovations', ',', 'and', 'increase', 'operational', 'excellence', 'and', 'efficiency', '.', 'All', 'while', 'keeping', 'a', 'billion', 'dollar', ',', '8', 'million'], query='customer', right=['store', 'up', 'and', 'available', 'on', 'a', '24x7', 'basis', '.', 'Brand', 'promise', '−', 'Amazon.com', 'is', 'still', 'a', 'small', 'and'], offset=3490, left_print='eping a billion dollar , 8 million', right_print='store up and available on a 24x7 b', line='eping a billion dollar , 8 million customer store up and available on a 24x7 b'),\n",
       " ConcordanceLine(left=['young', 'company', 'relative', 'to', 'the', 'major', 'offline', 'retailers', ',', 'and', 'we', 'must', 'ensure', 'that', 'we', 'build', 'wide', ',', 'strong'], query='customer', right=['relationships', 'during', 'this', 'critical', 'period', '.', 'Expanded', 'product', 'and', 'service', 'offerings', '−', 'In', '1999', ',', 'we', 'will', 'continue'], offset=3528, left_print='ensure that we build wide , strong', right_print='relationships during this critical', line='ensure that we build wide , strong customer relationships during this critical'),\n",
       " ConcordanceLine(left=['you', 'to', 'run', '–', 'not', 'walk', '–', 'to', 'www.amazon.com', 'and', 'click', 'on', 'the', 'Auctions', 'tab', '.', 'As', 'an', 'Amazon.com'], query='customer', right=[',', 'you', 'are', 'pre-registered', 'to', 'both', 'bid', 'and', 'sell', '.', 'As', 'a', 'seller', ',', 'you', 'have', 'access', 'to'], offset=3606, left_print='he Auctions tab . As an Amazon.com', right_print=', you are pre-registered to both b', line='he Auctions tab . As an Amazon.com customer , you are pre-registered to both b'),\n",
       " ConcordanceLine(left=['this', 'focus', '.', 'We', 'first', 'measure', 'ourselves', 'in', 'terms', 'of', 'the', 'metrics', 'most', 'indicative', 'of', 'our', 'market', 'leadership', ':'], query='customer', right=['and', 'revenue', 'growth', ',', 'the', 'degree', 'to', 'which', 'our', 'customers', 'continue', 'to', 'purchase', 'from', 'us', 'on', 'a', 'repeat'], offset=4323, left_print='icative of our market leadership :', right_print='and revenue growth , the degree to', line='icative of our market leadership : customer and revenue growth , the degree to'),\n",
       " ConcordanceLine(left=['strength', 'of', 'our', 'brand', '.', 'We', 'have', 'invested', 'and', 'will', 'continue', 'to', 'invest', 'aggressively', 'to', 'expand', 'and', 'leverage', 'our'], query='customer', right=['base', ',', 'brand', ',', 'and', 'infrastructure', 'as', 'we', 'move', 'to', 'establish', 'an', 'enduring', 'franchise', '.', 'Because', 'of', 'our'], offset=4365, left_print='ssively to expand and leverage our', right_print='base , brand , and infrastructure ', line='ssively to expand and leverage our customer base , brand , and infrastructure '),\n",
       " ConcordanceLine(left=['more', 'reviews', ',', 'content', ',', 'browsing', 'options', ',', 'and', 'recommendation', 'features', '.', 'We', 'dramatically', 'lowered', 'prices', ',', 'further', 'increasing'], query='customer', right=['value', '.', 'Word', 'of', 'mouth', 'remains', 'the', 'most', 'powerful', 'customer', 'acquisition', 'tool', 'we', 'have', ',', 'and', 'we', 'are'], offset=5014, left_print='owered prices , further increasing', right_print='value . Word of mouth remains the ', line='owered prices , further increasing customer value . Word of mouth remains the '),\n",
       " ConcordanceLine(left=['features', '.', 'We', 'dramatically', 'lowered', 'prices', ',', 'further', 'increasing', 'customer', 'value', '.', 'Word', 'of', 'mouth', 'remains', 'the', 'most', 'powerful'], query='customer', right=['acquisition', 'tool', 'we', 'have', ',', 'and', 'we', 'are', 'grateful', 'for', 'the', 'trust', 'our', 'customers', 'have', 'placed', 'in', 'us'], offset=5024, left_print='of mouth remains the most powerful', right_print='acquisition tool we have , and we ', line='of mouth remains the most powerful customer acquisition tool we have , and we '),\n",
       " ConcordanceLine(left=['grew', 'from', '$', '15.7', 'million', 'in', '1996', 'to', '$', '147.8', 'million', '–', 'an', '838', '%', 'increase', '.', '•', 'Cumulative'], query='customer', right=['accounts', 'grew', 'from', '180,000', 'to', '1,510,000', '–', 'a', '738', '%', 'increase', '.', '•', 'The', 'percentage', 'of', 'orders', 'from'], offset=5095, left_print='– an 838 % increase . • Cumulative', right_print='accounts grew from 180,000 to 1,51', line='– an 838 % increase . • Cumulative customer accounts grew from 180,000 to 1,51'),\n",
       " ConcordanceLine(left=['customers', 'through', 'Internet', 'commerce', 'and', 'merchandising', '.', 'Our', 'goal', 'remains', 'to', 'continue', 'to', 'solidify', 'and', 'extend', 'our', 'brand', 'and'], query='customer', right=['base', '.', 'This', 'requires', 'sustained', 'investment', 'in', 'systems', 'and', 'infrastructure', 'to', 'support', 'outstanding', 'customer', 'convenience', ',', 'selection', ','], offset=5520, left_print=' solidify and extend our brand and', right_print='base . This requires sustained inv', line=' solidify and extend our brand and customer base . This requires sustained inv'),\n",
       " ConcordanceLine(left=['and', 'extend', 'our', 'brand', 'and', 'customer', 'base', '.', 'This', 'requires', 'sustained', 'investment', 'in', 'systems', 'and', 'infrastructure', 'to', 'support', 'outstanding'], query='customer', right=['convenience', ',', 'selection', ',', 'and', 'service', 'while', 'we', 'grow', '.', 'We', 'are', 'planning', 'to', 'add', 'music', 'to', 'our'], offset=5534, left_print='rastructure to support outstanding', right_print='convenience , selection , and serv', line='rastructure to support outstanding customer convenience , selection , and serv'),\n",
       " ConcordanceLine(left=['are', 'significant', 'opportunities', 'to', 'better', 'serve', 'our', 'customers', 'overseas', ',', 'such', 'as', 'reducing', 'delivery', 'times', 'and', 'better', 'tailoring', 'the'], query='customer', right=['experience', '.', 'To', 'be', 'certain', ',', 'a', 'big', 'part', 'of', 'the', 'challenge', 'for', 'us', 'will', 'lie', 'not', 'in'], offset=5592, left_print='ery times and better tailoring the', right_print='experience . To be certain , a big', line='ery times and better tailoring the customer experience . To be certain , a big')]"
      ]
     },
     "execution_count": 13,
     "metadata": {},
     "output_type": "execute_result"
    }
   ],
   "source": [
    "Text(wholetext).concordance_list('customer')"
   ]
  },
  {
   "cell_type": "code",
   "execution_count": 14,
   "metadata": {},
   "outputs": [
    {
     "name": "stdout",
     "output_type": "stream",
     "text": [
      "Chief Executive; customer experience; market leadership; online\n",
      "commerce; high standards; cash flow; cash flows; Bezos Founder;\n",
      "machine learning; long term; Career Choice; years ago; Executive\n",
      "OfficerAmazon.com; last year; Web Services; square feet; 1997 letter;\n",
      "employee base; fulfillment centers; fourth quarter\n"
     ]
    }
   ],
   "source": [
    "Text(wholetext).collocations()"
   ]
  }
 ],
 "metadata": {
  "kernelspec": {
   "display_name": "venv",
   "language": "python",
   "name": "python3"
  },
  "language_info": {
   "codemirror_mode": {
    "name": "ipython",
    "version": 3
   },
   "file_extension": ".py",
   "mimetype": "text/x-python",
   "name": "python",
   "nbconvert_exporter": "python",
   "pygments_lexer": "ipython3",
   "version": "3.11.6"
  }
 },
 "nbformat": 4,
 "nbformat_minor": 4
}
