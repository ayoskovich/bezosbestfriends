{
 "cells": [
  {
   "cell_type": "code",
   "execution_count": 1,
   "metadata": {},
   "outputs": [
    {
     "name": "stdout",
     "output_type": "stream",
     "text": [
      "/Users/anthonyyoskovich/bezosbestfriends\n",
      "Using /Users/anthonyyoskovich/bezosbestfriends as the working directory.\n"
     ]
    }
   ],
   "source": [
    "# set working directory to dashboard\n",
    "import os\n",
    "%cd ..\n",
    "print(f'Using {os.getcwd()} as the working directory.')"
   ]
  },
  {
   "cell_type": "code",
   "execution_count": 2,
   "metadata": {},
   "outputs": [
    {
     "name": "stdout",
     "output_type": "stream",
     "text": [
      "loading from cache\n",
      "loading from cache\n"
     ]
    }
   ],
   "source": [
    "\n",
    "import datapipeline\n",
    "import importlib\n",
    "importlib.reload(datapipeline)\n",
    "from datapipeline import sentiment_frame, alldata, wholetext\n",
    "import sentiment_helpers as sm\n",
    "import warnings\n",
    "import plotly.express as px\n",
    "import nltk\n",
    "from nltk.text import Text\n",
    "\n",
    "warnings.simplefilter(action='ignore', category=FutureWarning)\n",
    "stopwords = nltk.corpus.stopwords.words('english')"
   ]
  },
  {
   "cell_type": "code",
   "execution_count": 3,
   "metadata": {},
   "outputs": [
    {
     "data": {
      "application/vnd.plotly.v1+json": {
       "config": {
        "plotlyServerURL": "https://plot.ly"
       },
       "data": [
        {
         "alignmentgroup": "True",
         "customdata": [
          [
           "neutral"
          ]
         ],
         "hovertemplate": "color=neutral<br>=%{y}<extra></extra>",
         "insidetextanchor": "middle",
         "legendgroup": "neutral",
         "marker": {
          "color": "#1F77B4",
          "pattern": {
           "shape": ""
          }
         },
         "name": "neutral",
         "offsetgroup": "neutral",
         "orientation": "h",
         "showlegend": true,
         "textposition": "inside",
         "texttemplate": "%{x:.0%} %{customdata[0]}",
         "type": "bar",
         "x": [
          0.75
         ],
         "xaxis": "x",
         "y": [
          1
         ],
         "yaxis": "y"
        },
        {
         "alignmentgroup": "True",
         "customdata": [
          [
           "positive"
          ]
         ],
         "hovertemplate": "color=positive<br>=%{y}<extra></extra>",
         "insidetextanchor": "middle",
         "legendgroup": "positive",
         "marker": {
          "color": "#FF7F0E",
          "pattern": {
           "shape": ""
          }
         },
         "name": "positive",
         "offsetgroup": "positive",
         "orientation": "h",
         "showlegend": true,
         "textposition": "inside",
         "texttemplate": "%{x:.0%} %{customdata[0]}",
         "type": "bar",
         "x": [
          0.25
         ],
         "xaxis": "x",
         "y": [
          1
         ],
         "yaxis": "y"
        }
       ],
       "layout": {
        "barmode": "stack",
        "height": 250,
        "legend": {
         "title": {
          "text": "color"
         },
         "tracegroupgap": 0
        },
        "margin": {
         "t": 60
        },
        "template": {
         "data": {
          "scatter": [
           {
            "type": "scatter"
           }
          ]
         }
        },
        "xaxis": {
         "anchor": "y",
         "domain": [
          0,
          1
         ],
         "showgrid": false,
         "showticklabels": false,
         "ticktext": [],
         "tickvals": [],
         "title": {
          "text": ""
         },
         "zeroline": false
        },
        "yaxis": {
         "anchor": "x",
         "domain": [
          0,
          1
         ],
         "showgrid": false,
         "showticklabels": false,
         "ticktext": [],
         "tickvals": [],
         "title": {
          "text": ""
         },
         "zeroline": false
        }
       }
      }
     },
     "metadata": {},
     "output_type": "display_data"
    }
   ],
   "source": [
    "props = (\n",
    "    sentiment_frame\n",
    "    .loc[lambda x: x['year'] == 2010]\n",
    "    .groupby(\"year\")[\"color\"]\n",
    "    .value_counts(normalize=True)\n",
    "    .reset_index()\n",
    "    .sort_values(by=\"color\")\n",
    ")\n",
    "ns = (\n",
    "    sentiment_frame\n",
    "    .groupby('year')['color']\n",
    "    .value_counts()\n",
    "    .reset_index(name='n')\n",
    "    .sort_values(by=\"color\")['n']\n",
    ")\n",
    "props['n'] = ns\n",
    "fig = px.bar(\n",
    "    y=[1] * props.shape[0],\n",
    "    x=\"proportion\",\n",
    "    color=\"color\",\n",
    "    data_frame=props,\n",
    "    # color_discrete_map=COLORMAP,\n",
    "    orientation=\"h\",\n",
    "    height=250,\n",
    "    template=\"none\",\n",
    "    labels=dict(proportion=\"\", y=\"\"),\n",
    "    custom_data=['color']\n",
    ")\n",
    "fig.update_layout(\n",
    "    barmode=\"stack\",\n",
    "    yaxis=dict(\n",
    "        showticklabels=False,\n",
    "        showgrid=False,\n",
    "        zeroline=False,\n",
    "        tickvals=[],\n",
    "        ticktext=[],\n",
    "    ),\n",
    "    xaxis=dict(\n",
    "        showticklabels=False,\n",
    "        showgrid=False,\n",
    "        zeroline=False,\n",
    "        tickvals=[],\n",
    "        ticktext=[],\n",
    "    ),\n",
    ")\n",
    "fig.update_traces(\n",
    "    texttemplate='%{x:.0%} %{customdata[0]}',\n",
    "    textposition='inside',\n",
    "    insidetextanchor='middle'\n",
    ")\n",
    "fig"
   ]
  },
  {
   "cell_type": "code",
   "execution_count": 4,
   "metadata": {},
   "outputs": [
    {
     "data": {
      "text/plain": [
       "'customer-focused'"
      ]
     },
     "execution_count": 4,
     "metadata": {},
     "output_type": "execute_result"
    }
   ],
   "source": [
    "import plotly.graph_objects as go\n",
    "import plotly.express as px\n",
    "\n",
    "\n",
    "from nltk.corpus import stopwords\n",
    "from nltk.stem import PorterStemmer\n",
    "from nltk.stem import WordNetLemmatizer\n",
    "from nltk import FreqDist\n",
    "from nltk.text import Text\n",
    "lemmer = WordNetLemmatizer()\n",
    "lemmer.lemmatize('customer-focused')"
   ]
  },
  {
   "cell_type": "code",
   "execution_count": 11,
   "metadata": {},
   "outputs": [
    {
     "data": {
      "text/plain": [
       "[ConcordanceLine(left=['\\nto', 'our', 'shareholder', 'amazon.com', 'passed', 'many', 'milestone', 'in', '1997', 'by', 'year', 'end', 'we', 'had', 'served', 'more', 'than', '15', 'million'], query='customer', right=['yielding', '838', 'revenue', 'growth', 'to', '1478', 'million', 'and', 'extended', 'our', 'market', 'leadership', 'despite', 'aggressive', 'competitive', 'entry', 'but', 'this'], offset=22, left_print='we had served more than 15 million', right_print='yielding 838 revenue growth to 147', line='we had served more than 15 million customer yielding 838 revenue growth to 147'),\n",
       " ConcordanceLine(left=['but', 'this', 'is', 'day', '1', 'for', 'the', 'internet', 'and', 'if', 'we', 'execute', 'well', 'for', 'amazon.com', 'today', 'online', 'commerce', 'save'], query='customer', right=['money', 'and', 'precious', 'time', 'tomorrow', 'through', 'personalization', 'online', 'commerce', 'will', 'accelerate', 'the', 'very', 'process', 'of', 'discovery', 'amazon.com', 'us'], offset=58, left_print='zon.com today online commerce save', right_print='money and precious time tomorrow t', line='zon.com today online commerce save customer money and precious time tomorrow t'),\n",
       " ConcordanceLine(left=['online', 'commerce', 'will', 'accelerate', 'the', 'very', 'process', 'of', 'discovery', 'amazon.com', 'us', 'the', 'internet', 'to', 'create', 'real', 'value', 'for', 'it'], query='customer', right=['and', 'by', 'doing', 'so', 'hope', 'to', 'create', 'an', 'enduring', 'franchise', 'even', 'in', 'established', 'and', 'large', 'market', 'we', 'have'], offset=85, left_print='ternet to create real value for it', right_print='and by doing so hope to create an ', line='ternet to create real value for it customer and by doing so hope to create an '),\n",
       " ConcordanceLine(left=['we', 'have', 'a', 'window', 'of', 'opportunity', 'a', 'larger', 'player', 'marshal', 'the', 'resource', 'to', 'pursue', 'the', 'online', 'opportunity', 'and', 'a'], query='customer', right=['new', 'to', 'purchasing', 'online', 'are', 'receptive', 'to', 'forming', 'new', 'relationship', 'the', 'competitive', 'landscape', 'ha', 'continued', 'to', 'evolve', 'at'], offset=121, left_print='ursue the online opportunity and a', right_print='new to purchasing online are recep', line='ursue the online opportunity and a customer new to purchasing online are recep'),\n",
       " ConcordanceLine(left=['consistently', 'reflected', 'this', 'focus', 'we', 'first', 'measure', 'ourselves', 'in', 'term', 'of', 'the', 'metric', 'most', 'indicative', 'of', 'our', 'market', 'leadership'], query='customer', right=['and', 'revenue', 'growth', 'the', 'degree', 'to', 'which', 'our', 'customer', 'continue', 'to', 'purchase', 'from', 'u', 'on', 'a', 'repeat', 'basis'], offset=316, left_print='ndicative of our market leadership', right_print='and revenue growth the degree to w', line='ndicative of our market leadership customer and revenue growth the degree to w'),\n",
       " ConcordanceLine(left=['term', 'of', 'the', 'metric', 'most', 'indicative', 'of', 'our', 'market', 'leadership', 'customer', 'and', 'revenue', 'growth', 'the', 'degree', 'to', 'which', 'our'], query='customer', right=['continue', 'to', 'purchase', 'from', 'u', 'on', 'a', 'repeat', 'basis', 'and', 'the', 'strength', 'of', 'our', 'brand', 'we', 'have', 'invested'], offset=325, left_print='nue growth the degree to which our', right_print='continue to purchase from u on a r', line='nue growth the degree to which our customer continue to purchase from u on a r'),\n",
       " ConcordanceLine(left=['the', 'strength', 'of', 'our', 'brand', 'we', 'have', 'invested', 'and', 'will', 'continue', 'to', 'invest', 'aggressively', 'to', 'expand', 'and', 'leverage', 'our'], query='customer', right=['base', 'brand', 'and', 'infrastructure', 'a', 'we', 'move', 'to', 'establish', 'an', 'enduring', 'franchise'], offset=355, left_print='ssively to expand and leverage our', right_print='base brand and infrastructure a we', line='ssively to expand and leverage our customer base brand and infrastructure a we')]"
      ]
     },
     "execution_count": 11,
     "metadata": {},
     "output_type": "execute_result"
    }
   ],
   "source": [
    "alldata.iloc[0]['text_object'].concordance_list('customer')"
   ]
  },
  {
   "cell_type": "code",
   "execution_count": null,
   "metadata": {},
   "outputs": [],
   "source": [
    "alldata"
   ]
  },
  {
   "cell_type": "code",
   "execution_count": 34,
   "metadata": {},
   "outputs": [
    {
     "data": {
      "text/html": [
       "<div>\n",
       "<style scoped>\n",
       "    .dataframe tbody tr th:only-of-type {\n",
       "        vertical-align: middle;\n",
       "    }\n",
       "\n",
       "    .dataframe tbody tr th {\n",
       "        vertical-align: top;\n",
       "    }\n",
       "\n",
       "    .dataframe thead th {\n",
       "        text-align: right;\n",
       "    }\n",
       "</style>\n",
       "<table border=\"1\" class=\"dataframe\">\n",
       "  <thead>\n",
       "    <tr style=\"text-align: right;\">\n",
       "      <th></th>\n",
       "      <th>index</th>\n",
       "      <th>year</th>\n",
       "    </tr>\n",
       "  </thead>\n",
       "  <tbody>\n",
       "    <tr>\n",
       "      <th>29610</th>\n",
       "      <td>29610</td>\n",
       "      <td>2008</td>\n",
       "    </tr>\n",
       "    <tr>\n",
       "      <th>35035</th>\n",
       "      <td>35035</td>\n",
       "      <td>2010</td>\n",
       "    </tr>\n",
       "    <tr>\n",
       "      <th>35050</th>\n",
       "      <td>35050</td>\n",
       "      <td>2010</td>\n",
       "    </tr>\n",
       "    <tr>\n",
       "      <th>37712</th>\n",
       "      <td>37712</td>\n",
       "      <td>2011</td>\n",
       "    </tr>\n",
       "    <tr>\n",
       "      <th>48400</th>\n",
       "      <td>48400</td>\n",
       "      <td>2014</td>\n",
       "    </tr>\n",
       "    <tr>\n",
       "      <th>54759</th>\n",
       "      <td>54759</td>\n",
       "      <td>2015</td>\n",
       "    </tr>\n",
       "    <tr>\n",
       "      <th>60340</th>\n",
       "      <td>60340</td>\n",
       "      <td>2016</td>\n",
       "    </tr>\n",
       "    <tr>\n",
       "      <th>60761</th>\n",
       "      <td>60761</td>\n",
       "      <td>2016</td>\n",
       "    </tr>\n",
       "    <tr>\n",
       "      <th>60983</th>\n",
       "      <td>60983</td>\n",
       "      <td>2016</td>\n",
       "    </tr>\n",
       "    <tr>\n",
       "      <th>61007</th>\n",
       "      <td>61007</td>\n",
       "      <td>2016</td>\n",
       "    </tr>\n",
       "    <tr>\n",
       "      <th>61129</th>\n",
       "      <td>61129</td>\n",
       "      <td>2016</td>\n",
       "    </tr>\n",
       "    <tr>\n",
       "      <th>64658</th>\n",
       "      <td>64658</td>\n",
       "      <td>2017</td>\n",
       "    </tr>\n",
       "    <tr>\n",
       "      <th>75091</th>\n",
       "      <td>75091</td>\n",
       "      <td>2019</td>\n",
       "    </tr>\n",
       "    <tr>\n",
       "      <th>75119</th>\n",
       "      <td>75119</td>\n",
       "      <td>2019</td>\n",
       "    </tr>\n",
       "    <tr>\n",
       "      <th>75137</th>\n",
       "      <td>75137</td>\n",
       "      <td>2019</td>\n",
       "    </tr>\n",
       "    <tr>\n",
       "      <th>75785</th>\n",
       "      <td>75785</td>\n",
       "      <td>2019</td>\n",
       "    </tr>\n",
       "    <tr>\n",
       "      <th>78667</th>\n",
       "      <td>78667</td>\n",
       "      <td>2020</td>\n",
       "    </tr>\n",
       "    <tr>\n",
       "      <th>78688</th>\n",
       "      <td>78688</td>\n",
       "      <td>2020</td>\n",
       "    </tr>\n",
       "    <tr>\n",
       "      <th>78814</th>\n",
       "      <td>78814</td>\n",
       "      <td>2020</td>\n",
       "    </tr>\n",
       "    <tr>\n",
       "      <th>78859</th>\n",
       "      <td>78859</td>\n",
       "      <td>2020</td>\n",
       "    </tr>\n",
       "    <tr>\n",
       "      <th>78947</th>\n",
       "      <td>78947</td>\n",
       "      <td>2020</td>\n",
       "    </tr>\n",
       "    <tr>\n",
       "      <th>78977</th>\n",
       "      <td>78977</td>\n",
       "      <td>2020</td>\n",
       "    </tr>\n",
       "    <tr>\n",
       "      <th>79053</th>\n",
       "      <td>79053</td>\n",
       "      <td>2020</td>\n",
       "    </tr>\n",
       "    <tr>\n",
       "      <th>80351</th>\n",
       "      <td>80351</td>\n",
       "      <td>2020</td>\n",
       "    </tr>\n",
       "    <tr>\n",
       "      <th>83256</th>\n",
       "      <td>83256</td>\n",
       "      <td>2021</td>\n",
       "    </tr>\n",
       "    <tr>\n",
       "      <th>83324</th>\n",
       "      <td>83324</td>\n",
       "      <td>2021</td>\n",
       "    </tr>\n",
       "    <tr>\n",
       "      <th>88303</th>\n",
       "      <td>88303</td>\n",
       "      <td>2022</td>\n",
       "    </tr>\n",
       "    <tr>\n",
       "      <th>88454</th>\n",
       "      <td>88454</td>\n",
       "      <td>2022</td>\n",
       "    </tr>\n",
       "    <tr>\n",
       "      <th>89638</th>\n",
       "      <td>89638</td>\n",
       "      <td>2022</td>\n",
       "    </tr>\n",
       "    <tr>\n",
       "      <th>94641</th>\n",
       "      <td>94641</td>\n",
       "      <td>2023</td>\n",
       "    </tr>\n",
       "    <tr>\n",
       "      <th>94918</th>\n",
       "      <td>94918</td>\n",
       "      <td>2023</td>\n",
       "    </tr>\n",
       "    <tr>\n",
       "      <th>96240</th>\n",
       "      <td>96240</td>\n",
       "      <td>2023</td>\n",
       "    </tr>\n",
       "    <tr>\n",
       "      <th>96279</th>\n",
       "      <td>96279</td>\n",
       "      <td>2023</td>\n",
       "    </tr>\n",
       "    <tr>\n",
       "      <th>97094</th>\n",
       "      <td>97094</td>\n",
       "      <td>2023</td>\n",
       "    </tr>\n",
       "    <tr>\n",
       "      <th>99169</th>\n",
       "      <td>99169</td>\n",
       "      <td>2023</td>\n",
       "    </tr>\n",
       "    <tr>\n",
       "      <th>99529</th>\n",
       "      <td>99529</td>\n",
       "      <td>2023</td>\n",
       "    </tr>\n",
       "  </tbody>\n",
       "</table>\n",
       "</div>"
      ],
      "text/plain": [
       "       index  year\n",
       "29610  29610  2008\n",
       "35035  35035  2010\n",
       "35050  35050  2010\n",
       "37712  37712  2011\n",
       "48400  48400  2014\n",
       "54759  54759  2015\n",
       "60340  60340  2016\n",
       "60761  60761  2016\n",
       "60983  60983  2016\n",
       "61007  61007  2016\n",
       "61129  61129  2016\n",
       "64658  64658  2017\n",
       "75091  75091  2019\n",
       "75119  75119  2019\n",
       "75137  75137  2019\n",
       "75785  75785  2019\n",
       "78667  78667  2020\n",
       "78688  78688  2020\n",
       "78814  78814  2020\n",
       "78859  78859  2020\n",
       "78947  78947  2020\n",
       "78977  78977  2020\n",
       "79053  79053  2020\n",
       "80351  80351  2020\n",
       "83256  83256  2021\n",
       "83324  83324  2021\n",
       "88303  88303  2022\n",
       "88454  88454  2022\n",
       "89638  89638  2022\n",
       "94641  94641  2023\n",
       "94918  94918  2023\n",
       "96240  96240  2023\n",
       "96279  96279  2023\n",
       "97094  97094  2023\n",
       "99169  99169  2023\n",
       "99529  99529  2023"
      ]
     },
     "execution_count": 34,
     "metadata": {},
     "output_type": "execute_result"
    }
   ],
   "source": [
    "_df[['index', 'year']]"
   ]
  },
  {
   "cell_type": "code",
   "execution_count": 89,
   "metadata": {},
   "outputs": [
    {
     "data": {
      "text/html": [
       "<div>\n",
       "<style scoped>\n",
       "    .dataframe tbody tr th:only-of-type {\n",
       "        vertical-align: middle;\n",
       "    }\n",
       "\n",
       "    .dataframe tbody tr th {\n",
       "        vertical-align: top;\n",
       "    }\n",
       "\n",
       "    .dataframe thead th {\n",
       "        text-align: right;\n",
       "    }\n",
       "</style>\n",
       "<table border=\"1\" class=\"dataframe\">\n",
       "  <thead>\n",
       "    <tr style=\"text-align: right;\">\n",
       "      <th></th>\n",
       "      <th>year</th>\n",
       "      <th>index</th>\n",
       "    </tr>\n",
       "  </thead>\n",
       "  <tbody>\n",
       "    <tr>\n",
       "      <th>0</th>\n",
       "      <td>2007</td>\n",
       "      <td>26767</td>\n",
       "    </tr>\n",
       "    <tr>\n",
       "      <th>1</th>\n",
       "      <td>2010</td>\n",
       "      <td>35058</td>\n",
       "    </tr>\n",
       "    <tr>\n",
       "      <th>2</th>\n",
       "      <td>2011</td>\n",
       "      <td>37723</td>\n",
       "    </tr>\n",
       "    <tr>\n",
       "      <th>3</th>\n",
       "      <td>2012</td>\n",
       "      <td>40125</td>\n",
       "    </tr>\n",
       "    <tr>\n",
       "      <th>4</th>\n",
       "      <td>2013</td>\n",
       "      <td>44543</td>\n",
       "    </tr>\n",
       "    <tr>\n",
       "      <th>5</th>\n",
       "      <td>2014</td>\n",
       "      <td>48370</td>\n",
       "    </tr>\n",
       "    <tr>\n",
       "      <th>6</th>\n",
       "      <td>2015</td>\n",
       "      <td>52956</td>\n",
       "    </tr>\n",
       "    <tr>\n",
       "      <th>7</th>\n",
       "      <td>2016</td>\n",
       "      <td>58157</td>\n",
       "    </tr>\n",
       "    <tr>\n",
       "      <th>8</th>\n",
       "      <td>2017</td>\n",
       "      <td>64743</td>\n",
       "    </tr>\n",
       "    <tr>\n",
       "      <th>9</th>\n",
       "      <td>2018</td>\n",
       "      <td>69245</td>\n",
       "    </tr>\n",
       "    <tr>\n",
       "      <th>10</th>\n",
       "      <td>2019</td>\n",
       "      <td>74035</td>\n",
       "    </tr>\n",
       "    <tr>\n",
       "      <th>11</th>\n",
       "      <td>2020</td>\n",
       "      <td>78595</td>\n",
       "    </tr>\n",
       "    <tr>\n",
       "      <th>12</th>\n",
       "      <td>2021</td>\n",
       "      <td>83022</td>\n",
       "    </tr>\n",
       "    <tr>\n",
       "      <th>13</th>\n",
       "      <td>2022</td>\n",
       "      <td>88278</td>\n",
       "    </tr>\n",
       "    <tr>\n",
       "      <th>14</th>\n",
       "      <td>2023</td>\n",
       "      <td>94651</td>\n",
       "    </tr>\n",
       "  </tbody>\n",
       "</table>\n",
       "</div>"
      ],
      "text/plain": [
       "    year  index\n",
       "0   2007  26767\n",
       "1   2010  35058\n",
       "2   2011  37723\n",
       "3   2012  40125\n",
       "4   2013  44543\n",
       "5   2014  48370\n",
       "6   2015  52956\n",
       "7   2016  58157\n",
       "8   2017  64743\n",
       "9   2018  69245\n",
       "10  2019  74035\n",
       "11  2020  78595\n",
       "12  2021  83022\n",
       "13  2022  88278\n",
       "14  2023  94651"
      ]
     },
     "execution_count": 89,
     "metadata": {},
     "output_type": "execute_result"
    }
   ],
   "source": [
    "refline_data"
   ]
  },
  {
   "cell_type": "code",
   "execution_count": 157,
   "metadata": {},
   "outputs": [
    {
     "data": {
      "application/vnd.plotly.v1+json": {
       "config": {
        "plotlyServerURL": "https://plot.ly"
       },
       "data": [
        {
         "hovertemplate": "index=%{x}<br>static_value=%{y}<extra></extra>",
         "legendgroup": "",
         "marker": {
          "color": "rgba(30,136,229,.25)",
          "line": {
           "color": "rgba(0,0,0,1)",
           "width": 1
          },
          "size": 20,
          "symbol": "circle"
         },
         "mode": "markers",
         "name": "",
         "orientation": "v",
         "showlegend": false,
         "type": "scatter",
         "x": [
          26767,
          35058,
          37723,
          40125,
          41263,
          41343,
          41390,
          41432,
          44543,
          44567,
          44639,
          44685,
          48370,
          52956,
          53060,
          54809,
          55028,
          55041,
          55111,
          55134,
          55165,
          55200,
          55279,
          55288,
          55410,
          55500,
          55535,
          55632,
          55657,
          55675,
          55691,
          55710,
          55739,
          55780,
          58157,
          58739,
          60100,
          60166,
          60256,
          60303,
          60329,
          60347,
          60425,
          60561,
          60584,
          60803,
          60986,
          61586,
          61655,
          61674,
          64743,
          69245,
          69273,
          71255,
          71548,
          74035,
          74126,
          74143,
          74173,
          74200,
          74632,
          75107,
          75136,
          78595,
          78629,
          78640,
          78721,
          78770,
          78925,
          78974,
          79043,
          79929,
          79946,
          80012,
          80042,
          83022,
          83298,
          83392,
          83401,
          84780,
          88278,
          88328,
          88347,
          88409,
          89593,
          89831,
          90067,
          90109,
          90131,
          90160,
          92095,
          94651,
          94871,
          94971,
          94975,
          95016,
          96171,
          96238,
          96337,
          96352,
          96365,
          96442,
          96492,
          96508,
          96621,
          96841,
          96842,
          97147,
          97159,
          97175,
          98371,
          98977,
          99154,
          99157,
          99291,
          99342
         ],
         "xaxis": "x",
         "y": [
          1,
          1,
          1,
          1,
          1,
          1,
          1,
          1,
          1,
          1,
          1,
          1,
          1,
          1,
          1,
          1,
          1,
          1,
          1,
          1,
          1,
          1,
          1,
          1,
          1,
          1,
          1,
          1,
          1,
          1,
          1,
          1,
          1,
          1,
          1,
          1,
          1,
          1,
          1,
          1,
          1,
          1,
          1,
          1,
          1,
          1,
          1,
          1,
          1,
          1,
          1,
          1,
          1,
          1,
          1,
          1,
          1,
          1,
          1,
          1,
          1,
          1,
          1,
          1,
          1,
          1,
          1,
          1,
          1,
          1,
          1,
          1,
          1,
          1,
          1,
          1,
          1,
          1,
          1,
          1,
          1,
          1,
          1,
          1,
          1,
          1,
          1,
          1,
          1,
          1,
          1,
          1,
          1,
          1,
          1,
          1,
          1,
          1,
          1,
          1,
          1,
          1,
          1,
          1,
          1,
          1,
          1,
          1,
          1,
          1,
          1,
          1,
          1,
          1,
          1,
          1
         ],
         "yaxis": "y"
        }
       ],
       "layout": {
        "annotations": [
         {
          "showarrow": false,
          "text": "1998",
          "textangle": 45,
          "x": 0,
          "xanchor": "left",
          "xref": "x",
          "y": 0,
          "yanchor": "bottom",
          "yref": "y domain"
         },
         {
          "showarrow": false,
          "text": "1999",
          "textangle": 45,
          "x": 1685,
          "xanchor": "left",
          "xref": "x",
          "y": 0,
          "yanchor": "bottom",
          "yref": "y domain"
         },
         {
          "showarrow": false,
          "text": "2000",
          "textangle": 45,
          "x": 5234,
          "xanchor": "left",
          "xref": "x",
          "y": 0,
          "yanchor": "bottom",
          "yref": "y domain"
         },
         {
          "showarrow": false,
          "text": "2001",
          "textangle": 45,
          "x": 8987,
          "xanchor": "left",
          "xref": "x",
          "y": 0,
          "yanchor": "bottom",
          "yref": "y domain"
         },
         {
          "showarrow": false,
          "text": "2002",
          "textangle": 45,
          "x": 11832,
          "xanchor": "left",
          "xref": "x",
          "y": 0,
          "yanchor": "bottom",
          "yref": "y domain"
         },
         {
          "showarrow": false,
          "text": "2003",
          "textangle": 45,
          "x": 15062,
          "xanchor": "left",
          "xref": "x",
          "y": 0,
          "yanchor": "bottom",
          "yref": "y domain"
         },
         {
          "showarrow": false,
          "text": "2004",
          "textangle": 45,
          "x": 17938,
          "xanchor": "left",
          "xref": "x",
          "y": 0,
          "yanchor": "bottom",
          "yref": "y domain"
         },
         {
          "showarrow": false,
          "text": "2005",
          "textangle": 45,
          "x": 20339,
          "xanchor": "left",
          "xref": "x",
          "y": 0,
          "yanchor": "bottom",
          "yref": "y domain"
         },
         {
          "showarrow": false,
          "text": "2006",
          "textangle": 45,
          "x": 23501,
          "xanchor": "left",
          "xref": "x",
          "y": 0,
          "yanchor": "bottom",
          "yref": "y domain"
         },
         {
          "showarrow": false,
          "text": "2007",
          "textangle": 45,
          "x": 26335,
          "xanchor": "left",
          "xref": "x",
          "y": 0,
          "yanchor": "bottom",
          "yref": "y domain"
         },
         {
          "showarrow": false,
          "text": "2008",
          "textangle": 45,
          "x": 28975,
          "xanchor": "left",
          "xref": "x",
          "y": 0,
          "yanchor": "bottom",
          "yref": "y domain"
         },
         {
          "showarrow": false,
          "text": "2009",
          "textangle": 45,
          "x": 31841,
          "xanchor": "left",
          "xref": "x",
          "y": 0,
          "yanchor": "bottom",
          "yref": "y domain"
         },
         {
          "showarrow": false,
          "text": "2010",
          "textangle": 45,
          "x": 34633,
          "xanchor": "left",
          "xref": "x",
          "y": 0,
          "yanchor": "bottom",
          "yref": "y domain"
         },
         {
          "showarrow": false,
          "text": "2011",
          "textangle": 45,
          "x": 37201,
          "xanchor": "left",
          "xref": "x",
          "y": 0,
          "yanchor": "bottom",
          "yref": "y domain"
         },
         {
          "showarrow": false,
          "text": "2012",
          "textangle": 45,
          "x": 40016,
          "xanchor": "left",
          "xref": "x",
          "y": 0,
          "yanchor": "bottom",
          "yref": "y domain"
         },
         {
          "showarrow": false,
          "text": "2013",
          "textangle": 45,
          "x": 43653,
          "xanchor": "left",
          "xref": "x",
          "y": 0,
          "yanchor": "bottom",
          "yref": "y domain"
         },
         {
          "showarrow": false,
          "text": "2014",
          "textangle": 45,
          "x": 46720,
          "xanchor": "left",
          "xref": "x",
          "y": 0,
          "yanchor": "bottom",
          "yref": "y domain"
         },
         {
          "showarrow": false,
          "text": "2015",
          "textangle": 45,
          "x": 52853,
          "xanchor": "left",
          "xref": "x",
          "y": 0,
          "yanchor": "bottom",
          "yref": "y domain"
         },
         {
          "showarrow": false,
          "text": "2016",
          "textangle": 45,
          "x": 57951,
          "xanchor": "left",
          "xref": "x",
          "y": 0,
          "yanchor": "bottom",
          "yref": "y domain"
         },
         {
          "showarrow": false,
          "text": "2017",
          "textangle": 45,
          "x": 63812,
          "xanchor": "left",
          "xref": "x",
          "y": 0,
          "yanchor": "bottom",
          "yref": "y domain"
         },
         {
          "showarrow": false,
          "text": "2018",
          "textangle": 45,
          "x": 67279,
          "xanchor": "left",
          "xref": "x",
          "y": 0,
          "yanchor": "bottom",
          "yref": "y domain"
         },
         {
          "showarrow": false,
          "text": "2019",
          "textangle": 45,
          "x": 73350,
          "xanchor": "left",
          "xref": "x",
          "y": 0,
          "yanchor": "bottom",
          "yref": "y domain"
         },
         {
          "showarrow": false,
          "text": "2020",
          "textangle": 45,
          "x": 77520,
          "xanchor": "left",
          "xref": "x",
          "y": 0,
          "yanchor": "bottom",
          "yref": "y domain"
         },
         {
          "showarrow": false,
          "text": "2021",
          "textangle": 45,
          "x": 82363,
          "xanchor": "left",
          "xref": "x",
          "y": 0,
          "yanchor": "bottom",
          "yref": "y domain"
         },
         {
          "showarrow": false,
          "text": "2022",
          "textangle": 45,
          "x": 88116,
          "xanchor": "left",
          "xref": "x",
          "y": 0,
          "yanchor": "bottom",
          "yref": "y domain"
         },
         {
          "showarrow": false,
          "text": "2023",
          "textangle": 45,
          "x": 94361,
          "xanchor": "left",
          "xref": "x",
          "y": 0,
          "yanchor": "bottom",
          "yref": "y domain"
         }
        ],
        "hovermode": false,
        "legend": {
         "tracegroupgap": 0
        },
        "margin": {
         "t": 60
        },
        "shapes": [
         {
          "line": {
           "color": "grey",
           "dash": "dash",
           "width": 3
          },
          "type": "line",
          "x0": 0,
          "x1": 0,
          "xref": "x",
          "y0": 0,
          "y1": 1,
          "yref": "y domain"
         },
         {
          "line": {
           "color": "grey",
           "dash": "dash",
           "width": 3
          },
          "type": "line",
          "x0": 1685,
          "x1": 1685,
          "xref": "x",
          "y0": 0,
          "y1": 1,
          "yref": "y domain"
         },
         {
          "line": {
           "color": "grey",
           "dash": "dash",
           "width": 3
          },
          "type": "line",
          "x0": 5234,
          "x1": 5234,
          "xref": "x",
          "y0": 0,
          "y1": 1,
          "yref": "y domain"
         },
         {
          "line": {
           "color": "grey",
           "dash": "dash",
           "width": 3
          },
          "type": "line",
          "x0": 8987,
          "x1": 8987,
          "xref": "x",
          "y0": 0,
          "y1": 1,
          "yref": "y domain"
         },
         {
          "line": {
           "color": "grey",
           "dash": "dash",
           "width": 3
          },
          "type": "line",
          "x0": 11832,
          "x1": 11832,
          "xref": "x",
          "y0": 0,
          "y1": 1,
          "yref": "y domain"
         },
         {
          "line": {
           "color": "grey",
           "dash": "dash",
           "width": 3
          },
          "type": "line",
          "x0": 15062,
          "x1": 15062,
          "xref": "x",
          "y0": 0,
          "y1": 1,
          "yref": "y domain"
         },
         {
          "line": {
           "color": "grey",
           "dash": "dash",
           "width": 3
          },
          "type": "line",
          "x0": 17938,
          "x1": 17938,
          "xref": "x",
          "y0": 0,
          "y1": 1,
          "yref": "y domain"
         },
         {
          "line": {
           "color": "grey",
           "dash": "dash",
           "width": 3
          },
          "type": "line",
          "x0": 20339,
          "x1": 20339,
          "xref": "x",
          "y0": 0,
          "y1": 1,
          "yref": "y domain"
         },
         {
          "line": {
           "color": "grey",
           "dash": "dash",
           "width": 3
          },
          "type": "line",
          "x0": 23501,
          "x1": 23501,
          "xref": "x",
          "y0": 0,
          "y1": 1,
          "yref": "y domain"
         },
         {
          "line": {
           "color": "grey",
           "dash": "dash",
           "width": 3
          },
          "type": "line",
          "x0": 26335,
          "x1": 26335,
          "xref": "x",
          "y0": 0,
          "y1": 1,
          "yref": "y domain"
         },
         {
          "line": {
           "color": "grey",
           "dash": "dash",
           "width": 3
          },
          "type": "line",
          "x0": 28975,
          "x1": 28975,
          "xref": "x",
          "y0": 0,
          "y1": 1,
          "yref": "y domain"
         },
         {
          "line": {
           "color": "grey",
           "dash": "dash",
           "width": 3
          },
          "type": "line",
          "x0": 31841,
          "x1": 31841,
          "xref": "x",
          "y0": 0,
          "y1": 1,
          "yref": "y domain"
         },
         {
          "line": {
           "color": "grey",
           "dash": "dash",
           "width": 3
          },
          "type": "line",
          "x0": 34633,
          "x1": 34633,
          "xref": "x",
          "y0": 0,
          "y1": 1,
          "yref": "y domain"
         },
         {
          "line": {
           "color": "grey",
           "dash": "dash",
           "width": 3
          },
          "type": "line",
          "x0": 37201,
          "x1": 37201,
          "xref": "x",
          "y0": 0,
          "y1": 1,
          "yref": "y domain"
         },
         {
          "line": {
           "color": "grey",
           "dash": "dash",
           "width": 3
          },
          "type": "line",
          "x0": 40016,
          "x1": 40016,
          "xref": "x",
          "y0": 0,
          "y1": 1,
          "yref": "y domain"
         },
         {
          "line": {
           "color": "grey",
           "dash": "dash",
           "width": 3
          },
          "type": "line",
          "x0": 43653,
          "x1": 43653,
          "xref": "x",
          "y0": 0,
          "y1": 1,
          "yref": "y domain"
         },
         {
          "line": {
           "color": "grey",
           "dash": "dash",
           "width": 3
          },
          "type": "line",
          "x0": 46720,
          "x1": 46720,
          "xref": "x",
          "y0": 0,
          "y1": 1,
          "yref": "y domain"
         },
         {
          "line": {
           "color": "grey",
           "dash": "dash",
           "width": 3
          },
          "type": "line",
          "x0": 52853,
          "x1": 52853,
          "xref": "x",
          "y0": 0,
          "y1": 1,
          "yref": "y domain"
         },
         {
          "line": {
           "color": "grey",
           "dash": "dash",
           "width": 3
          },
          "type": "line",
          "x0": 57951,
          "x1": 57951,
          "xref": "x",
          "y0": 0,
          "y1": 1,
          "yref": "y domain"
         },
         {
          "line": {
           "color": "grey",
           "dash": "dash",
           "width": 3
          },
          "type": "line",
          "x0": 63812,
          "x1": 63812,
          "xref": "x",
          "y0": 0,
          "y1": 1,
          "yref": "y domain"
         },
         {
          "line": {
           "color": "grey",
           "dash": "dash",
           "width": 3
          },
          "type": "line",
          "x0": 67279,
          "x1": 67279,
          "xref": "x",
          "y0": 0,
          "y1": 1,
          "yref": "y domain"
         },
         {
          "line": {
           "color": "grey",
           "dash": "dash",
           "width": 3
          },
          "type": "line",
          "x0": 73350,
          "x1": 73350,
          "xref": "x",
          "y0": 0,
          "y1": 1,
          "yref": "y domain"
         },
         {
          "line": {
           "color": "grey",
           "dash": "dash",
           "width": 3
          },
          "type": "line",
          "x0": 77520,
          "x1": 77520,
          "xref": "x",
          "y0": 0,
          "y1": 1,
          "yref": "y domain"
         },
         {
          "line": {
           "color": "grey",
           "dash": "dash",
           "width": 3
          },
          "type": "line",
          "x0": 82363,
          "x1": 82363,
          "xref": "x",
          "y0": 0,
          "y1": 1,
          "yref": "y domain"
         },
         {
          "line": {
           "color": "grey",
           "dash": "dash",
           "width": 3
          },
          "type": "line",
          "x0": 88116,
          "x1": 88116,
          "xref": "x",
          "y0": 0,
          "y1": 1,
          "yref": "y domain"
         },
         {
          "line": {
           "color": "grey",
           "dash": "dash",
           "width": 3
          },
          "type": "line",
          "x0": 94361,
          "x1": 94361,
          "xref": "x",
          "y0": 0,
          "y1": 1,
          "yref": "y domain"
         }
        ],
        "template": {
         "data": {
          "bar": [
           {
            "error_x": {
             "color": "rgb(36,36,36)"
            },
            "error_y": {
             "color": "rgb(36,36,36)"
            },
            "marker": {
             "line": {
              "color": "white",
              "width": 0.5
             },
             "pattern": {
              "fillmode": "overlay",
              "size": 10,
              "solidity": 0.2
             }
            },
            "type": "bar"
           }
          ],
          "barpolar": [
           {
            "marker": {
             "line": {
              "color": "white",
              "width": 0.5
             },
             "pattern": {
              "fillmode": "overlay",
              "size": 10,
              "solidity": 0.2
             }
            },
            "type": "barpolar"
           }
          ],
          "carpet": [
           {
            "aaxis": {
             "endlinecolor": "rgb(36,36,36)",
             "gridcolor": "white",
             "linecolor": "white",
             "minorgridcolor": "white",
             "startlinecolor": "rgb(36,36,36)"
            },
            "baxis": {
             "endlinecolor": "rgb(36,36,36)",
             "gridcolor": "white",
             "linecolor": "white",
             "minorgridcolor": "white",
             "startlinecolor": "rgb(36,36,36)"
            },
            "type": "carpet"
           }
          ],
          "choropleth": [
           {
            "colorbar": {
             "outlinewidth": 1,
             "tickcolor": "rgb(36,36,36)",
             "ticks": "outside"
            },
            "type": "choropleth"
           }
          ],
          "contour": [
           {
            "colorbar": {
             "outlinewidth": 1,
             "tickcolor": "rgb(36,36,36)",
             "ticks": "outside"
            },
            "colorscale": [
             [
              0,
              "#440154"
             ],
             [
              0.1111111111111111,
              "#482878"
             ],
             [
              0.2222222222222222,
              "#3e4989"
             ],
             [
              0.3333333333333333,
              "#31688e"
             ],
             [
              0.4444444444444444,
              "#26828e"
             ],
             [
              0.5555555555555556,
              "#1f9e89"
             ],
             [
              0.6666666666666666,
              "#35b779"
             ],
             [
              0.7777777777777778,
              "#6ece58"
             ],
             [
              0.8888888888888888,
              "#b5de2b"
             ],
             [
              1,
              "#fde725"
             ]
            ],
            "type": "contour"
           }
          ],
          "contourcarpet": [
           {
            "colorbar": {
             "outlinewidth": 1,
             "tickcolor": "rgb(36,36,36)",
             "ticks": "outside"
            },
            "type": "contourcarpet"
           }
          ],
          "heatmap": [
           {
            "colorbar": {
             "outlinewidth": 1,
             "tickcolor": "rgb(36,36,36)",
             "ticks": "outside"
            },
            "colorscale": [
             [
              0,
              "#440154"
             ],
             [
              0.1111111111111111,
              "#482878"
             ],
             [
              0.2222222222222222,
              "#3e4989"
             ],
             [
              0.3333333333333333,
              "#31688e"
             ],
             [
              0.4444444444444444,
              "#26828e"
             ],
             [
              0.5555555555555556,
              "#1f9e89"
             ],
             [
              0.6666666666666666,
              "#35b779"
             ],
             [
              0.7777777777777778,
              "#6ece58"
             ],
             [
              0.8888888888888888,
              "#b5de2b"
             ],
             [
              1,
              "#fde725"
             ]
            ],
            "type": "heatmap"
           }
          ],
          "heatmapgl": [
           {
            "colorbar": {
             "outlinewidth": 1,
             "tickcolor": "rgb(36,36,36)",
             "ticks": "outside"
            },
            "colorscale": [
             [
              0,
              "#440154"
             ],
             [
              0.1111111111111111,
              "#482878"
             ],
             [
              0.2222222222222222,
              "#3e4989"
             ],
             [
              0.3333333333333333,
              "#31688e"
             ],
             [
              0.4444444444444444,
              "#26828e"
             ],
             [
              0.5555555555555556,
              "#1f9e89"
             ],
             [
              0.6666666666666666,
              "#35b779"
             ],
             [
              0.7777777777777778,
              "#6ece58"
             ],
             [
              0.8888888888888888,
              "#b5de2b"
             ],
             [
              1,
              "#fde725"
             ]
            ],
            "type": "heatmapgl"
           }
          ],
          "histogram": [
           {
            "marker": {
             "line": {
              "color": "white",
              "width": 0.6
             }
            },
            "type": "histogram"
           }
          ],
          "histogram2d": [
           {
            "colorbar": {
             "outlinewidth": 1,
             "tickcolor": "rgb(36,36,36)",
             "ticks": "outside"
            },
            "colorscale": [
             [
              0,
              "#440154"
             ],
             [
              0.1111111111111111,
              "#482878"
             ],
             [
              0.2222222222222222,
              "#3e4989"
             ],
             [
              0.3333333333333333,
              "#31688e"
             ],
             [
              0.4444444444444444,
              "#26828e"
             ],
             [
              0.5555555555555556,
              "#1f9e89"
             ],
             [
              0.6666666666666666,
              "#35b779"
             ],
             [
              0.7777777777777778,
              "#6ece58"
             ],
             [
              0.8888888888888888,
              "#b5de2b"
             ],
             [
              1,
              "#fde725"
             ]
            ],
            "type": "histogram2d"
           }
          ],
          "histogram2dcontour": [
           {
            "colorbar": {
             "outlinewidth": 1,
             "tickcolor": "rgb(36,36,36)",
             "ticks": "outside"
            },
            "colorscale": [
             [
              0,
              "#440154"
             ],
             [
              0.1111111111111111,
              "#482878"
             ],
             [
              0.2222222222222222,
              "#3e4989"
             ],
             [
              0.3333333333333333,
              "#31688e"
             ],
             [
              0.4444444444444444,
              "#26828e"
             ],
             [
              0.5555555555555556,
              "#1f9e89"
             ],
             [
              0.6666666666666666,
              "#35b779"
             ],
             [
              0.7777777777777778,
              "#6ece58"
             ],
             [
              0.8888888888888888,
              "#b5de2b"
             ],
             [
              1,
              "#fde725"
             ]
            ],
            "type": "histogram2dcontour"
           }
          ],
          "mesh3d": [
           {
            "colorbar": {
             "outlinewidth": 1,
             "tickcolor": "rgb(36,36,36)",
             "ticks": "outside"
            },
            "type": "mesh3d"
           }
          ],
          "parcoords": [
           {
            "line": {
             "colorbar": {
              "outlinewidth": 1,
              "tickcolor": "rgb(36,36,36)",
              "ticks": "outside"
             }
            },
            "type": "parcoords"
           }
          ],
          "pie": [
           {
            "automargin": true,
            "type": "pie"
           }
          ],
          "scatter": [
           {
            "fillpattern": {
             "fillmode": "overlay",
             "size": 10,
             "solidity": 0.2
            },
            "type": "scatter"
           }
          ],
          "scatter3d": [
           {
            "line": {
             "colorbar": {
              "outlinewidth": 1,
              "tickcolor": "rgb(36,36,36)",
              "ticks": "outside"
             }
            },
            "marker": {
             "colorbar": {
              "outlinewidth": 1,
              "tickcolor": "rgb(36,36,36)",
              "ticks": "outside"
             }
            },
            "type": "scatter3d"
           }
          ],
          "scattercarpet": [
           {
            "marker": {
             "colorbar": {
              "outlinewidth": 1,
              "tickcolor": "rgb(36,36,36)",
              "ticks": "outside"
             }
            },
            "type": "scattercarpet"
           }
          ],
          "scattergeo": [
           {
            "marker": {
             "colorbar": {
              "outlinewidth": 1,
              "tickcolor": "rgb(36,36,36)",
              "ticks": "outside"
             }
            },
            "type": "scattergeo"
           }
          ],
          "scattergl": [
           {
            "marker": {
             "colorbar": {
              "outlinewidth": 1,
              "tickcolor": "rgb(36,36,36)",
              "ticks": "outside"
             }
            },
            "type": "scattergl"
           }
          ],
          "scattermapbox": [
           {
            "marker": {
             "colorbar": {
              "outlinewidth": 1,
              "tickcolor": "rgb(36,36,36)",
              "ticks": "outside"
             }
            },
            "type": "scattermapbox"
           }
          ],
          "scatterpolar": [
           {
            "marker": {
             "colorbar": {
              "outlinewidth": 1,
              "tickcolor": "rgb(36,36,36)",
              "ticks": "outside"
             }
            },
            "type": "scatterpolar"
           }
          ],
          "scatterpolargl": [
           {
            "marker": {
             "colorbar": {
              "outlinewidth": 1,
              "tickcolor": "rgb(36,36,36)",
              "ticks": "outside"
             }
            },
            "type": "scatterpolargl"
           }
          ],
          "scatterternary": [
           {
            "marker": {
             "colorbar": {
              "outlinewidth": 1,
              "tickcolor": "rgb(36,36,36)",
              "ticks": "outside"
             }
            },
            "type": "scatterternary"
           }
          ],
          "surface": [
           {
            "colorbar": {
             "outlinewidth": 1,
             "tickcolor": "rgb(36,36,36)",
             "ticks": "outside"
            },
            "colorscale": [
             [
              0,
              "#440154"
             ],
             [
              0.1111111111111111,
              "#482878"
             ],
             [
              0.2222222222222222,
              "#3e4989"
             ],
             [
              0.3333333333333333,
              "#31688e"
             ],
             [
              0.4444444444444444,
              "#26828e"
             ],
             [
              0.5555555555555556,
              "#1f9e89"
             ],
             [
              0.6666666666666666,
              "#35b779"
             ],
             [
              0.7777777777777778,
              "#6ece58"
             ],
             [
              0.8888888888888888,
              "#b5de2b"
             ],
             [
              1,
              "#fde725"
             ]
            ],
            "type": "surface"
           }
          ],
          "table": [
           {
            "cells": {
             "fill": {
              "color": "rgb(237,237,237)"
             },
             "line": {
              "color": "white"
             }
            },
            "header": {
             "fill": {
              "color": "rgb(217,217,217)"
             },
             "line": {
              "color": "white"
             }
            },
            "type": "table"
           }
          ]
         },
         "layout": {
          "annotationdefaults": {
           "arrowhead": 0,
           "arrowwidth": 1
          },
          "autotypenumbers": "strict",
          "coloraxis": {
           "colorbar": {
            "outlinewidth": 1,
            "tickcolor": "rgb(36,36,36)",
            "ticks": "outside"
           }
          },
          "colorscale": {
           "diverging": [
            [
             0,
             "rgb(103,0,31)"
            ],
            [
             0.1,
             "rgb(178,24,43)"
            ],
            [
             0.2,
             "rgb(214,96,77)"
            ],
            [
             0.3,
             "rgb(244,165,130)"
            ],
            [
             0.4,
             "rgb(253,219,199)"
            ],
            [
             0.5,
             "rgb(247,247,247)"
            ],
            [
             0.6,
             "rgb(209,229,240)"
            ],
            [
             0.7,
             "rgb(146,197,222)"
            ],
            [
             0.8,
             "rgb(67,147,195)"
            ],
            [
             0.9,
             "rgb(33,102,172)"
            ],
            [
             1,
             "rgb(5,48,97)"
            ]
           ],
           "sequential": [
            [
             0,
             "#440154"
            ],
            [
             0.1111111111111111,
             "#482878"
            ],
            [
             0.2222222222222222,
             "#3e4989"
            ],
            [
             0.3333333333333333,
             "#31688e"
            ],
            [
             0.4444444444444444,
             "#26828e"
            ],
            [
             0.5555555555555556,
             "#1f9e89"
            ],
            [
             0.6666666666666666,
             "#35b779"
            ],
            [
             0.7777777777777778,
             "#6ece58"
            ],
            [
             0.8888888888888888,
             "#b5de2b"
            ],
            [
             1,
             "#fde725"
            ]
           ],
           "sequentialminus": [
            [
             0,
             "#440154"
            ],
            [
             0.1111111111111111,
             "#482878"
            ],
            [
             0.2222222222222222,
             "#3e4989"
            ],
            [
             0.3333333333333333,
             "#31688e"
            ],
            [
             0.4444444444444444,
             "#26828e"
            ],
            [
             0.5555555555555556,
             "#1f9e89"
            ],
            [
             0.6666666666666666,
             "#35b779"
            ],
            [
             0.7777777777777778,
             "#6ece58"
            ],
            [
             0.8888888888888888,
             "#b5de2b"
            ],
            [
             1,
             "#fde725"
            ]
           ]
          },
          "colorway": [
           "#1F77B4",
           "#FF7F0E",
           "#2CA02C",
           "#D62728",
           "#9467BD",
           "#8C564B",
           "#E377C2",
           "#7F7F7F",
           "#BCBD22",
           "#17BECF"
          ],
          "font": {
           "color": "rgb(36,36,36)"
          },
          "geo": {
           "bgcolor": "white",
           "lakecolor": "white",
           "landcolor": "white",
           "showlakes": true,
           "showland": true,
           "subunitcolor": "white"
          },
          "hoverlabel": {
           "align": "left"
          },
          "hovermode": "closest",
          "mapbox": {
           "style": "light"
          },
          "paper_bgcolor": "white",
          "plot_bgcolor": "white",
          "polar": {
           "angularaxis": {
            "gridcolor": "rgb(232,232,232)",
            "linecolor": "rgb(36,36,36)",
            "showgrid": false,
            "showline": true,
            "ticks": "outside"
           },
           "bgcolor": "white",
           "radialaxis": {
            "gridcolor": "rgb(232,232,232)",
            "linecolor": "rgb(36,36,36)",
            "showgrid": false,
            "showline": true,
            "ticks": "outside"
           }
          },
          "scene": {
           "xaxis": {
            "backgroundcolor": "white",
            "gridcolor": "rgb(232,232,232)",
            "gridwidth": 2,
            "linecolor": "rgb(36,36,36)",
            "showbackground": true,
            "showgrid": false,
            "showline": true,
            "ticks": "outside",
            "zeroline": false,
            "zerolinecolor": "rgb(36,36,36)"
           },
           "yaxis": {
            "backgroundcolor": "white",
            "gridcolor": "rgb(232,232,232)",
            "gridwidth": 2,
            "linecolor": "rgb(36,36,36)",
            "showbackground": true,
            "showgrid": false,
            "showline": true,
            "ticks": "outside",
            "zeroline": false,
            "zerolinecolor": "rgb(36,36,36)"
           },
           "zaxis": {
            "backgroundcolor": "white",
            "gridcolor": "rgb(232,232,232)",
            "gridwidth": 2,
            "linecolor": "rgb(36,36,36)",
            "showbackground": true,
            "showgrid": false,
            "showline": true,
            "ticks": "outside",
            "zeroline": false,
            "zerolinecolor": "rgb(36,36,36)"
           }
          },
          "shapedefaults": {
           "fillcolor": "black",
           "line": {
            "width": 0
           },
           "opacity": 0.3
          },
          "ternary": {
           "aaxis": {
            "gridcolor": "rgb(232,232,232)",
            "linecolor": "rgb(36,36,36)",
            "showgrid": false,
            "showline": true,
            "ticks": "outside"
           },
           "baxis": {
            "gridcolor": "rgb(232,232,232)",
            "linecolor": "rgb(36,36,36)",
            "showgrid": false,
            "showline": true,
            "ticks": "outside"
           },
           "bgcolor": "white",
           "caxis": {
            "gridcolor": "rgb(232,232,232)",
            "linecolor": "rgb(36,36,36)",
            "showgrid": false,
            "showline": true,
            "ticks": "outside"
           }
          },
          "title": {
           "x": 0.05
          },
          "xaxis": {
           "automargin": true,
           "gridcolor": "rgb(232,232,232)",
           "linecolor": "rgb(36,36,36)",
           "showgrid": false,
           "showline": true,
           "ticks": "outside",
           "title": {
            "standoff": 15
           },
           "zeroline": false,
           "zerolinecolor": "rgb(36,36,36)"
          },
          "yaxis": {
           "automargin": true,
           "gridcolor": "rgb(232,232,232)",
           "linecolor": "rgb(36,36,36)",
           "showgrid": false,
           "showline": true,
           "ticks": "outside",
           "title": {
            "standoff": 15
           },
           "zeroline": false,
           "zerolinecolor": "rgb(36,36,36)"
          }
         }
        },
        "xaxis": {
         "anchor": "y",
         "domain": [
          0,
          1
         ],
         "showgrid": false,
         "showticklabels": false,
         "ticktext": [],
         "tickvals": [],
         "title": {
          "text": "index"
         },
         "zeroline": false
        },
        "yaxis": {
         "anchor": "x",
         "domain": [
          0,
          1
         ],
         "showgrid": false,
         "showticklabels": false,
         "ticktext": [],
         "tickvals": [],
         "title": {
          "text": "static_value"
         },
         "zeroline": false
        }
       }
      }
     },
     "metadata": {},
     "output_type": "display_data"
    }
   ],
   "source": [
    "import plotly.io as pio\n",
    "pio.templates.default = \"simple_white\"\n",
    "SEARCH_TERM = 'aws'\n",
    "base_data = (\n",
    "    alldata\n",
    "    # .assign(wordcount = lambda x: x['text_object'].apply(lambda x: x.count('customer')))\n",
    "    .assign(split = lambda x: x['text_object'].apply(lambda x: x.tokens))\n",
    "    .explode('split')\n",
    "    .reset_index(drop=True)\n",
    "    .reset_index()\n",
    ")\n",
    "summary_data = ( \n",
    "    base_data\n",
    "    .loc[lambda x: x['split'] == SEARCH_TERM]\n",
    ")\n",
    "refline_data = base_data.groupby('year')['index'].min().reset_index()\n",
    "fig = (\n",
    "    summary_data\n",
    "    .assign(static_value = 1)\n",
    "    .assign(static_x = lambda x: x.apply(lambda x: [x['index'], x['year']], axis=1))\n",
    "    .pipe(lambda x: px.scatter(\n",
    "        data_frame=x, x='index', y='static_value',\n",
    "    ))\n",
    ")\n",
    "for row in refline_data.to_dict(orient='records'):\n",
    "    fig.add_vline(\n",
    "        x=row['index'], \n",
    "        line_width=3, \n",
    "        line_dash=\"dash\", \n",
    "        line_color=\"grey\",\n",
    "        annotation_text=row['year'],\n",
    "        annotation_position='bottom right',\n",
    "        annotation_textangle=45\n",
    "    )\n",
    "\n",
    "fig.update_traces(\n",
    "    # use rbga so I can make the center opacity \n",
    "    # different\n",
    "    marker = {\n",
    "        'size': 20,\n",
    "        'color': 'rgba(30,136,229,.25)',\n",
    "        'line': {\n",
    "            'color': 'rgba(0,0,0,1)',\n",
    "            'width': 1\n",
    "        }\n",
    "    })\n",
    "fig.update_layout(\n",
    "    yaxis=dict(\n",
    "        showticklabels=False,\n",
    "        showgrid=False,\n",
    "        zeroline=False,\n",
    "        tickvals=[],\n",
    "        ticktext=[],\n",
    "    ),\n",
    "    xaxis=dict(\n",
    "        showticklabels=False,\n",
    "        showgrid=False,\n",
    "        zeroline=False,\n",
    "        tickvals=[],\n",
    "        ticktext=[],\n",
    "    ),\n",
    "    hovermode=False,\n",
    ")\n",
    "fig"
   ]
  },
  {
   "cell_type": "code",
   "execution_count": 2,
   "metadata": {},
   "outputs": [
    {
     "ename": "AttributeError",
     "evalue": "module 'time' has no attribute '_TimeTuple'",
     "output_type": "error",
     "traceback": [
      "\u001b[0;31m---------------------------------------------------------------------------\u001b[0m",
      "\u001b[0;31mAttributeError\u001b[0m                            Traceback (most recent call last)",
      "\u001b[1;32m/Users/anthonyyoskovich/bezosbestfriends/notebooks/notes.ipynb Cell 10\u001b[0m line \u001b[0;36m2\n\u001b[1;32m      <a href='vscode-notebook-cell:/Users/anthonyyoskovich/bezosbestfriends/notebooks/notes.ipynb#X14sZmlsZQ%3D%3D?line=0'>1</a>\u001b[0m \u001b[39mimport\u001b[39;00m \u001b[39mtime\u001b[39;00m\n\u001b[0;32m----> <a href='vscode-notebook-cell:/Users/anthonyyoskovich/bezosbestfriends/notebooks/notes.ipynb#X14sZmlsZQ%3D%3D?line=1'>2</a>\u001b[0m time\u001b[39m.\u001b[39;49m_TimeTuple\n",
      "\u001b[0;31mAttributeError\u001b[0m: module 'time' has no attribute '_TimeTuple'"
     ]
    }
   ],
   "source": [
    "import time\n",
    "time._TimeTuple"
   ]
  },
  {
   "cell_type": "code",
   "execution_count": 162,
   "metadata": {},
   "outputs": [
    {
     "data": {
      "application/vnd.plotly.v1+json": {
       "config": {
        "plotlyServerURL": "https://plot.ly"
       },
       "data": [
        {
         "cells": {
          "align": [
           "left",
           "right",
           "center",
           "left"
          ],
          "fill": {
           "color": "lavender"
          },
          "values": [
           [
            2007,
            2010,
            2011,
            2012,
            2012,
            2012,
            2012,
            2012,
            2013,
            2013,
            2013,
            2013,
            2014,
            2015,
            2015,
            2015,
            2015,
            2015,
            2015,
            2015,
            2015,
            2015,
            2015,
            2015,
            2015,
            2015,
            2015,
            2015,
            2015,
            2015,
            2015,
            2015,
            2015,
            2015,
            2016,
            2016,
            2016,
            2016,
            2016,
            2016,
            2016,
            2016,
            2016,
            2016,
            2016,
            2016,
            2016,
            2016,
            2016,
            2016,
            2017,
            2018,
            2018,
            2018,
            2018,
            2019,
            2019,
            2019,
            2019,
            2019,
            2019,
            2019,
            2019,
            2020,
            2020,
            2020,
            2020,
            2020,
            2020,
            2020,
            2020,
            2020,
            2020,
            2020,
            2020,
            2021,
            2021,
            2021,
            2021,
            2021,
            2022,
            2022,
            2022,
            2022,
            2022,
            2022,
            2022,
            2022,
            2022,
            2022,
            2022,
            2023,
            2023,
            2023,
            2023,
            2023,
            2023,
            2023,
            2023,
            2023,
            2023,
            2023,
            2023,
            2023,
            2023,
            2023,
            2023,
            2023,
            2023,
            2023,
            2023,
            2023,
            2023,
            2023,
            2023,
            2023
           ],
           [
            "to u it differentiated can be large and pass our return bar amazon web service is another example with",
            "high memory ec2 instance reserved and spot instance streaming for amazon cloud front and version ing for amazon s3",
            "the starting point for the architecture underneath the cloud storage and data management service offered by amazon web service",
            "best technology and continue to grow christopher tholen the chief technology officer of band page his comment about how",
            "big part of what s going on with amazon web service fulfillment by amazon and kindle direct publishing with",
            "thirty different service and thousand of large and small business and individual developer a customer one of the first",
            "handle more than 500000 transaction per second and ha peaked at close to a million transaction per second all",
            "to negotiate a contract or engage with a salesperson you can just read the online documentation and get started",
            "example of internally driven motivation amazon web service in 2012aws announced 159 new feature and service we ve reduced",
            "launching 7 year ago added enterprise service support enhancement and created innovative tool to help customer be more efficient",
            "through trusted advisor and the service is only getting started all of this progress come in the context of",
            "drive to get the customer to say wow keep the pace of innovation fast our heavy investment in prime",
            "82 in 2012 it wa 159 in 2013 280 were also expanding our geographic footprint we now have 10",
            "the way we are now happily wed to what i believe are three such life partner marketplace prime and",
            "a willingness to think long term with good execution and a bit of continuing good luck marketplace prime and",
            "customer today since then large enterprise have been coming on board a well and they re choosing to use",
            "these are the main reason",
            "these are the main reason aws is growing so quickly it department are recognizing that when they adopt",
            "performance system and those apis and tool are continuously and seamlessly upgraded behind the scene without customer effort today",
            "a million active customer a company and organization of all size use aw s in every imaginable business segment",
            "versus the prior year company like ge major league baseball tata motor and qantas are building new application on",
            "fleet of truck other customer like ntt docomo the financial time and the security and exchange commission are using",
            "last year there are many that would be interesting to talk about from work doc and work mail to",
            "to talk about from work doc and work mail to aws lambda and the ec2 container service to the",
            "a pain point for organization and developer for a long time and were very excited about aurora i believe",
            "it current leadership position which is significant is a strong ongoing advantage we work hard \nvery hard to make",
            "tool with rich functionality and a nontrivial learning curve once you ve become proficient at building complex system with",
            "the world software developer changing job moving from one company to another become our best sale people we used",
            "and we should consider it here i think wedge t more done it a good sign that proficiency with",
            "with aws and it service is already something software developer are adding to their resume finally im optimistic that",
            "im optimistic that aws will have strong return on capital this is one we a a team examine because",
            "aws is capital intensive the good news is we like what we see when we do these analysis structurally",
            "replacing do it yourself which have low utilization rate almost always below 20 pooling of workload across customer give",
            "",
            "fail the patience to think long term and the taking of professional pride in operational excellence through that lens",
            "few of the highlight of our effort to nourish and global ize our three big offering prime marketplace and",
            "ve now launched 25 operational seller flex site across ten city amazon web service just over 10 year ago",
            "11 availability zone in canada china india the u and the uk to be available in the coming year",
            "to accelerate we announced 722 significant new feature and service in 2015 a 40 increase over 2014 many characterized",
            "we didnt or did we? maybe the knitting ha a much to do with our approach a the arena",
            "long term oriented and care deeply about operational excellence given 10 year and many iteration that approach ha allowed",
            "allowed aws to rapidly expand into the world most comprehensive widely adopted cloud service a with our retail business",
            "others are doing and then work to fast follow in contrast 90 to 95 of what we build in",
            "this ha struck a resonant chord with customer and aurora is the fastest growing service in the history of",
            "story could be told about redshift our managed data warehouse service which is the second fastest growing service in",
            "security and do all of this so much faster than before mlb advanced medium is an example of an",
            "seven year ago netflix announced that they were going to move all their application to the cloud netflix chose",
            "social issue two year ago we set a long term goal to use 100 renewable energy across our global",
            "year of additional renewable energy into the electric grid that supply",
            "aws data center amazon wind farm fowler ridge ha already come online we reached 25 sustainable energy use across",
            "much of the impact of machine learning will be of this type quietly but meaningfully improving core operation inside",
            "it exciting to see amazon web service a 20 billion revenue run rate business accelerate it already healthy growth",
            "in new area such a machine learning and artificial intelligence internet of thing and server le computing in 2017",
            "since 2011 we have invested over 150 billion worldwide in our fulfillment network transportation capability and technology infrastructure including",
            "deserved by many amazon is 560000 employee it also 2 million seller hundred of thousand of author million of",
            "dev manager ops manager chief digital officer chief information security officer etc want much of what we build at",
            "to tap into our own inner imagination about itself a a whole is an example no one asked for",
            "asked for aws no one turn out the world wa in fact ready and hungry for an offering like",
            "curiosity took the necessary financial risk and began building reworking experimenting and iterating countless time a we proceeded within",
            "for example we invented dynamo db a highly scalable low latency key value database now used by thousand of",
            "try totally new thing on behalf of customer and customer are responding to our customer centric wandering and listening",
            "learning and the cloud from amazon early day machine learning wa an essential part of our product recommendation and",
            "of the cloud after many year of development echo debuted in 2014 powered by alexa who life in the",
            "online and productive from home is critical in this situation hospital network pharmaceutical company and research lab are using",
            "other way academic institution around the world are transitioning from in person to virtual classroom and are running on",
            "person to virtual classroom and are running on aws to help ensure continuity of learning and government are leveraging",
            "training video into different language and help global healthcare worker better treat patient we are separately making a public",
            "so expert can access and analyze the latest data in their battle against the disease we also launched the",
            "in response to a request from the los angeles unified school district to transition 700000 student to remote learning",
            "of public health practitioner and clinician gather data related to covid19 and in form response effort in the uk",
            "powered video service to accommodate a 4000 spike in demand to support citizen a the pandemic continues in brazil",
            "company data center operate at roughly 18 server utilization they need that excess capacity to handle large usage spike",
            "usage spike aws benefit from multi tenant usage pattern and operates at far higher server utilization rate in addition",
            "efficient than the median u enterprise data center surveyed along with our use of renewable energy these factor enable",
            "an 88 lower carbon footprint and dont think were not going to get those last 12 point well make",
            "conservative here ill go with 25 billion for customer we have to break it down into consumer customer and",
            "value creation of 19 billion what would have cost them 64 billion on their own cost 45 billion from",
            "conservative here and remembering were really only trying to get ballpark estimate ill say it the same and call",
            "get ballpark estimate ill say it the same and call aws customer value creation 38 billion in 2020 adding",
            "ease think of it this way if we can operate two business a different a consumer e commerce and",
            "and government also had to shift practically overnight from working with colleague and technology on premise to working remotely",
            "and down quickly a well a unusually broad functionality helped million of company adjust to these difficult circumstance our",
            "aws and consumer business have had different demand trajectory during the pandemic in the first year of the pandemic",
            "uncertainty and slowing demand that so many business encountered but also in part to our helping company optimize their",
            "year but lead to better long term customer experience customer loyalty and return for our a we were defining",
            "service it become until we added the missing capability listed above and then some in the early day of",
            "ha been a significant success thus far 48 of the top 50 awsec2 customer have already adopted it the",
            "improvement on top relative gain the list of what we ve invented and delivered for customer in ec2 and",
            "is pretty mind boggling and this iterative approach to innovation ha not only given customer much more functionality in",
            "significant different i at or but also allowed u to arrive at the much more game changing offering that",
            "fast it requires having the right tool to experiment and build fast a major part of why we started",
            "around a set of technology infrastructure service in the cloud wa not obvious in 2003 when we started pursuing",
            "investment in customer experience that we believed could be substantial future business with strong return for shareholder in 2008",
            "anything we wanted to accelerate our pace of innovation we made the long term decision to continue investing in",
            "accelerate our pace of innovation we made the long term decision to continue investing in aws fifteen year later",
            "to public sector organization manage their technology infrastructure amazon would be a different company if wed slowed investment in",
            "over the long haul despite growing 29 year over year y oy in 2022 on a 62b revenue base",
            "best for customer in the long term so were taking a different tack one of the many advantage of",
            "were trying to build customer relationship and a business that outlast all of us; and a a result our",
            "a a result our aws sale and support team are spending much of their time helping customer optimize their",
            "their time helping customer optimize their aws spend so they can better weather this uncertain economy many of these",
            "short term headwind s often our growth rate we like a lot of the fundamental that were seeing in",
            "we find an increasing number of enterprise opting out of managing their own infrastructure and preferring to move to",
            "to move to aws to enjoy the agility innovation cost efficiency and security benefit and most importantly for customer",
            "ha continued to accelerate customer have yearned for lower cost gpus the chip most commonly used for machine learning",
            "not close to being done innovating here and this long term investment should prove fruitful for both customer and",
            "close to being done innovating here and this long term investment should prove fruitful for both customer and aws",
            "manner to generate advertising and business insight to in form their broader marketing and sale strategy the advertising and",
            "marketing and sale strategy the advertising and aws team have collaborated to enable company to store their data in",
            "their data in aws operate securely in amc with amazon and other third party data source perform analytics in",
            "few investment were making that are further from our core business but where we see unique opportunity in 2003",
            "positive and we believe kuiper represents a very large potential opportunity for amazon it also share several similarity to",
            "recommendation to fulfillment center pick path to drone for prime air to alexa to the many machine learning service",
            "center pick path to drone for prime air to alexa to the many machine learning service aws offer where",
            "a we ve done for year were democratizing this technology so company of all size can leverage generative ai",
            "m in production we enable company to choose from various ll m and build application with all of the"
           ],
           [
            "aws",
            "aws",
            "aws",
            "aws",
            "aws",
            "aws",
            "aws",
            "aws",
            "aws",
            "aws",
            "aws",
            "aws",
            "aws",
            "aws",
            "aws",
            "aws",
            "aws",
            "aws",
            "aws",
            "aws",
            "aws",
            "aws",
            "aws",
            "aws",
            "aws",
            "aws",
            "aws",
            "aws",
            "aws",
            "aws",
            "aws",
            "aws",
            "aws",
            "aws",
            "aws",
            "aws",
            "aws",
            "aws",
            "aws",
            "aws",
            "aws",
            "aws",
            "aws",
            "aws",
            "aws",
            "aws",
            "aws",
            "aws",
            "aws",
            "aws",
            "aws",
            "aws",
            "aws",
            "aws",
            "aws",
            "aws",
            "aws",
            "aws",
            "aws",
            "aws",
            "aws",
            "aws",
            "aws",
            "aws",
            "aws",
            "aws",
            "aws",
            "aws",
            "aws",
            "aws",
            "aws",
            "aws",
            "aws",
            "aws",
            "aws",
            "aws",
            "aws",
            "aws",
            "aws",
            "aws",
            "aws",
            "aws",
            "aws",
            "aws",
            "aws",
            "aws",
            "aws",
            "aws",
            "aws",
            "aws",
            "aws",
            "aws",
            "aws",
            "aws",
            "aws",
            "aws",
            "aws",
            "aws",
            "aws",
            "aws",
            "aws",
            "aws",
            "aws",
            "aws",
            "aws",
            "aws",
            "aws",
            "aws",
            "aws",
            "aws",
            "aws",
            "aws",
            "aws",
            "aws",
            "aws",
            "aws"
           ],
           [
            "were building a new business focused on a new customer set … software developer we currently offer ten",
            "also continued to expand it global footprint to include additional service in the eu a new northern california",
            "for example our simple storage service elastic block store and simple db all derive their basic architecture from",
            "help with the critical need to scale compute capacity quickly and reliably are not hypothetical band page now",
            "fba and kdp we are creating powerful self service platform that allow thousand of people to boldly experiment",
            "offering the simple storage service or s3 now hold over 900 billion data object with more than a",
            "service are pay a you go and radically transform capital expense into a variable costa w is self",
            "service are elastic they easily scale up and easily scale down in just the last quarter of 2011",
            "price 27 time since launching 7 year ago added enterprise service support enhancement and created innovative tool to",
            "trusted advisor monitor customer configuration compare them to known best practice and then notifies customer where opportunity exist",
            "being the widely recognized leader in it area a situation where you might worry that external motivation could",
            "kindle digital medium and customer experience in general strike some a too generous shareholder in different or even",
            "region around the world including the east coast of the u two on the west coast europe singapore",
            "each of these offering wa a bold bet at first and sensible people worried often! that they could",
            "can be serving customer and earning financial return for many year to come marketplace marketplace early day were",
            "for the same primary reason the did speed and agility having lower it cost is attractive and sometimes",
            "is growing so quickly it department are recognizing that when they adopt aws they get more done they",
            "they get more done they spend le time on low value add activity like managing datacenter s networking",
            "ha more than a million active customer a company and organization of all size use aw s in",
            "usage grew by approximately 90 in the fourth quarter of 2014 versus the prior year company like ge",
            "these range from apps for crowd sourcing and personalized healthcare to mobile apps for managing fleet of truck",
            "to analyze and take action on vast amount of data and many customer like conde ´ nast and",
            "lambda and the ec2 container service to the aws marketplace but for purpose of brevity im going to",
            "marketplace but for purpose of brevity im going to limit myself to one our recently introduced amazon aurora",
            "is one of those dreamy business offering that can be serving customer and earning financial return for many",
            "a easy to use a possible even so it still a necessarily complex set of tool with rich",
            "you do not want to have to learn a new set of tool and apis assuming the set",
            "where i used to work and we should consider it here i think wedge t more done it",
            "and it service is already something software developer are adding to their resume finally im optimistic that aws",
            "will have strong return on capital this is one we a a team examine because aws is capital",
            "is capital intensive the good news is we like what we see when we do these analysis structurally",
            "is far le capital intensive than the mode it replacing do it yourself which have low utilization rate",
            "much higher utilization rate and correspondingly higher capital efficiency further once again our leadership position help scale economy",
            "is young and it is still growing and evolving we think we can continue to lead if we",
            "and amazon retail are very similar indeed a word about corporate culture for better or for worse they",
            "and while ill focus on those three i assure you that we also remain hard at work on",
            "started in the u with it first major service a simple storage service offer more than 70 service",
            "started with developer and and now is used by more than a million customer from organization of every",
            "a a bold and unusual bet when we started what doe this have to do with selling books?",
            "is customer obsessed inventive and experimental long term oriented and care deeply about operational excellence given 10 year",
            "to rapidly expand into the world most comprehensive widely adopted cloud service a with our retail business aws",
            "is made up of many small team with single threaded owner enabling rapid innovation the team roll out",
            "is driven by what customer tell u they want a good example is our new database engine amazon",
            "nearly this same story could be told about redshift our managed data warehouse service which is the second",
            "history both small and large company are moving their data warehouse to redshift our approach to pricing is",
            "customer that is constantly reinventing the customer experience mlb s stat cast tracking technology is a new feature",
            "because it provided them with the greatest scale and the broadest set of service and feature netflix recently",
            "infrastructure we ve since announced four significant wind and solar farm that will deliver 16 million megawatt hour",
            "data center amazon wind farm fowler ridge ha already come online we reached 25 sustainable energy use across",
            "last year are on track to reach 40 this year and are working on goal that will cover",
            "were excited to lower the cost and barrier to machine learning and ai so organization of all size",
            "ha also accelerated it pace of innovation especially in new area such a machine learning and artificial intelligence",
            "announced more than 1400 significant service and feature including amazon age maker which radically change the accessibility and",
            "amazon ha created over 17 million direct and indirect job around the world in 2017 alone we directly",
            "developer and hundred of million of divinely discontent customer around the world who push to make u better",
            "is based on listening to customer it critical to ask customer what they want listen carefully to their",
            "no one turn out the world wa in fact ready and hungry for an offering like aws but",
            "but didnt know it we had a hunch followed our curiosity took the necessary financial risk and began",
            "that same pattern ha recurred many time for example we invented dynamo db a highly scalable low latency",
            "customer and on the listening carefully to customer side we heard loudly that company felt constrained by their",
            "is now a 30 billion annual run rate business and growing fast imagining the impossible amazon today remains",
            "gave u a front row seat to the capability of the cloud after many year of development echo",
            "cloud no customer wa asking for echo this wa definitely u wandering market research doesnt help if you",
            "to care for patient explore treatment and mitigate the impact of covid19 in many other way academic institution",
            "to help ensure continuity of learning and government are leveraging aws a a secure platform to build out",
            "a a secure platform to build out new capability in their effort to end this pandemic we are",
            "covid19 data lake available a a centralized repository for up to date and curate d information related to",
            "diagnostic development initiative a program to support customer working to bring more accurate diagnostic solution to market for",
            "helped establish a call center to field it question provide remote support and enable staff to answer call",
            "provides the cloud computing infrastructure for a project that analyzes hospital occupancy level emergency room capacity and patient",
            "will provide the s o paulo state government with cloud computing infrastructure to guarantee online class to 1",
            "benefit from multi tenant usage pattern and operates at far higher server utilization rate in addition aws ha",
            "ha been successful in increasing the energy efficiency of it facility and equipment for instance by using more",
            "to do the same task a traditional data center with an 88 lower carbon footprint and dont think",
            "100 carbon free through more investment in renewable energy project leveraging scale for good over the last decade",
            "customer well do consumer first we offer low price vast selection and fast delivery but imagine we ignore",
            "the difficult part of this estimation exercise is that the direct cost reduction is the smallest portion of",
            "customer value creation 38 billion in 2020 adding aws and consumer together give u total customer value creation",
            "and consumer together give u total customer value creation in 2020 of 164 billion",
            "and do both at the highest level we can certainly do the same with these two vision statement",
            "played a major role in enabling this business continuity whether company saw extraordinary demand spike or demand diminish",
            "and consumer business have had different demand trajectory during the pandemic in the first year of the pandemic",
            "revenue continued to grow at a rapid clip 30 year over year y oy in 2020 on a",
            "footprint to save money concurrently company were stepping back and determining what they wanted to change coming out",
            "and working backwards on the service we thought customer wanted we kept triggering one of the biggest tension",
            "people sometimes asked u why compute wouldnt just be an undifferentiated commodity but a lot more to compute",
            "chip team wa already learning from what customer said could be better and announced graviton 3 this past",
            "in general is pretty mind boggling and this iterative approach to innovation ha not only given customer much",
            "than they can find anywhere else which is a significant different i at or but also allowed u",
            "is today device our first foray into device wa the kindle released in 2007 it wa not the",
            "allowing team to make two way door decision themselves and setting an expectation that speed matter and it",
            "and still wasnt when we launched our first service in 2006 having virtually every book at your fingertip",
            "wa still a fairly small fledgling business we knew we were on to something but it still required",
            "fifteen year later aws is now an 85b annual revenue run rate business with strong profitability that ha",
            "is now an 85b annual revenue run rate business with strong profitability that ha transformed how customer from",
            "during that 20082009 period change is always around the corner sometimes you pro actively invite it in and",
            "face short term headwind right now a company are being more cautious in spending given the challenging current",
            "and cloud computing is that when your business grows you can seamlessly scale up; and conversely if your",
            "sale and support team are spending much of their time helping customer optimize their aws spend so they",
            "spend so they can better weather this uncertain economy many of these aws customer tell u that they",
            "customer tell u that they re not cost cutting a much a cost optimizing so they can take",
            "our new customer pipeline is robust a are our active migration many company use discontinuous period like this",
            "to enjoy the agility innovation cost efficiency and security benefit and most importantly for customer aws continues to",
            "continues to deliver new capability rapidly over 3300 new feature and service launched in 2022 and invest in",
            "started investing year ago in these specialized chip for machine learning training and inference inference are the prediction",
            "aws is still in the early stage of it evolution and ha a chance for unusual growth in",
            "is still in the early stage of it evolution and ha a chance for unusual growth in the",
            "team have collaborated to enable company to store their data in aws operate securely in amc with amazon",
            "operate securely in amc with amazon and other third party data source perform analytics in aws and have",
            "and have the option to activate advertising on amazon or third party publisher through the amazon demand side",
            "would have been a classic example in 2023 amazon healthcare and kuiper are potential analogue our initial effort",
            "in that it capital intensive at the start but ha a large prospective consumer enterprise and government customer",
            "offer where aws ha the broadest machine learning functionality and customer base of any cloud provider more recently",
            "ha the broadest machine learning functionality and customer base of any cloud provider more recently a newer form",
            "is offering the most price perform ant machine learning chip in train i um and infer en tia",
            "security privacy and other feature that customer are accustomed to using and were delivering application like code whisperer"
           ]
          ]
         },
         "columnwidth": [
          50,
          420,
          40,
          420
         ],
         "header": {
          "align": "left",
          "fill": {
           "color": "paleturquoise"
          },
          "values": [
           "Year",
           "",
           "",
           ""
          ]
         },
         "type": "table"
        }
       ],
       "layout": {
        "template": {
         "data": {
          "bar": [
           {
            "error_x": {
             "color": "rgb(36,36,36)"
            },
            "error_y": {
             "color": "rgb(36,36,36)"
            },
            "marker": {
             "line": {
              "color": "white",
              "width": 0.5
             },
             "pattern": {
              "fillmode": "overlay",
              "size": 10,
              "solidity": 0.2
             }
            },
            "type": "bar"
           }
          ],
          "barpolar": [
           {
            "marker": {
             "line": {
              "color": "white",
              "width": 0.5
             },
             "pattern": {
              "fillmode": "overlay",
              "size": 10,
              "solidity": 0.2
             }
            },
            "type": "barpolar"
           }
          ],
          "carpet": [
           {
            "aaxis": {
             "endlinecolor": "rgb(36,36,36)",
             "gridcolor": "white",
             "linecolor": "white",
             "minorgridcolor": "white",
             "startlinecolor": "rgb(36,36,36)"
            },
            "baxis": {
             "endlinecolor": "rgb(36,36,36)",
             "gridcolor": "white",
             "linecolor": "white",
             "minorgridcolor": "white",
             "startlinecolor": "rgb(36,36,36)"
            },
            "type": "carpet"
           }
          ],
          "choropleth": [
           {
            "colorbar": {
             "outlinewidth": 1,
             "tickcolor": "rgb(36,36,36)",
             "ticks": "outside"
            },
            "type": "choropleth"
           }
          ],
          "contour": [
           {
            "colorbar": {
             "outlinewidth": 1,
             "tickcolor": "rgb(36,36,36)",
             "ticks": "outside"
            },
            "colorscale": [
             [
              0,
              "#440154"
             ],
             [
              0.1111111111111111,
              "#482878"
             ],
             [
              0.2222222222222222,
              "#3e4989"
             ],
             [
              0.3333333333333333,
              "#31688e"
             ],
             [
              0.4444444444444444,
              "#26828e"
             ],
             [
              0.5555555555555556,
              "#1f9e89"
             ],
             [
              0.6666666666666666,
              "#35b779"
             ],
             [
              0.7777777777777778,
              "#6ece58"
             ],
             [
              0.8888888888888888,
              "#b5de2b"
             ],
             [
              1,
              "#fde725"
             ]
            ],
            "type": "contour"
           }
          ],
          "contourcarpet": [
           {
            "colorbar": {
             "outlinewidth": 1,
             "tickcolor": "rgb(36,36,36)",
             "ticks": "outside"
            },
            "type": "contourcarpet"
           }
          ],
          "heatmap": [
           {
            "colorbar": {
             "outlinewidth": 1,
             "tickcolor": "rgb(36,36,36)",
             "ticks": "outside"
            },
            "colorscale": [
             [
              0,
              "#440154"
             ],
             [
              0.1111111111111111,
              "#482878"
             ],
             [
              0.2222222222222222,
              "#3e4989"
             ],
             [
              0.3333333333333333,
              "#31688e"
             ],
             [
              0.4444444444444444,
              "#26828e"
             ],
             [
              0.5555555555555556,
              "#1f9e89"
             ],
             [
              0.6666666666666666,
              "#35b779"
             ],
             [
              0.7777777777777778,
              "#6ece58"
             ],
             [
              0.8888888888888888,
              "#b5de2b"
             ],
             [
              1,
              "#fde725"
             ]
            ],
            "type": "heatmap"
           }
          ],
          "heatmapgl": [
           {
            "colorbar": {
             "outlinewidth": 1,
             "tickcolor": "rgb(36,36,36)",
             "ticks": "outside"
            },
            "colorscale": [
             [
              0,
              "#440154"
             ],
             [
              0.1111111111111111,
              "#482878"
             ],
             [
              0.2222222222222222,
              "#3e4989"
             ],
             [
              0.3333333333333333,
              "#31688e"
             ],
             [
              0.4444444444444444,
              "#26828e"
             ],
             [
              0.5555555555555556,
              "#1f9e89"
             ],
             [
              0.6666666666666666,
              "#35b779"
             ],
             [
              0.7777777777777778,
              "#6ece58"
             ],
             [
              0.8888888888888888,
              "#b5de2b"
             ],
             [
              1,
              "#fde725"
             ]
            ],
            "type": "heatmapgl"
           }
          ],
          "histogram": [
           {
            "marker": {
             "line": {
              "color": "white",
              "width": 0.6
             }
            },
            "type": "histogram"
           }
          ],
          "histogram2d": [
           {
            "colorbar": {
             "outlinewidth": 1,
             "tickcolor": "rgb(36,36,36)",
             "ticks": "outside"
            },
            "colorscale": [
             [
              0,
              "#440154"
             ],
             [
              0.1111111111111111,
              "#482878"
             ],
             [
              0.2222222222222222,
              "#3e4989"
             ],
             [
              0.3333333333333333,
              "#31688e"
             ],
             [
              0.4444444444444444,
              "#26828e"
             ],
             [
              0.5555555555555556,
              "#1f9e89"
             ],
             [
              0.6666666666666666,
              "#35b779"
             ],
             [
              0.7777777777777778,
              "#6ece58"
             ],
             [
              0.8888888888888888,
              "#b5de2b"
             ],
             [
              1,
              "#fde725"
             ]
            ],
            "type": "histogram2d"
           }
          ],
          "histogram2dcontour": [
           {
            "colorbar": {
             "outlinewidth": 1,
             "tickcolor": "rgb(36,36,36)",
             "ticks": "outside"
            },
            "colorscale": [
             [
              0,
              "#440154"
             ],
             [
              0.1111111111111111,
              "#482878"
             ],
             [
              0.2222222222222222,
              "#3e4989"
             ],
             [
              0.3333333333333333,
              "#31688e"
             ],
             [
              0.4444444444444444,
              "#26828e"
             ],
             [
              0.5555555555555556,
              "#1f9e89"
             ],
             [
              0.6666666666666666,
              "#35b779"
             ],
             [
              0.7777777777777778,
              "#6ece58"
             ],
             [
              0.8888888888888888,
              "#b5de2b"
             ],
             [
              1,
              "#fde725"
             ]
            ],
            "type": "histogram2dcontour"
           }
          ],
          "mesh3d": [
           {
            "colorbar": {
             "outlinewidth": 1,
             "tickcolor": "rgb(36,36,36)",
             "ticks": "outside"
            },
            "type": "mesh3d"
           }
          ],
          "parcoords": [
           {
            "line": {
             "colorbar": {
              "outlinewidth": 1,
              "tickcolor": "rgb(36,36,36)",
              "ticks": "outside"
             }
            },
            "type": "parcoords"
           }
          ],
          "pie": [
           {
            "automargin": true,
            "type": "pie"
           }
          ],
          "scatter": [
           {
            "fillpattern": {
             "fillmode": "overlay",
             "size": 10,
             "solidity": 0.2
            },
            "type": "scatter"
           }
          ],
          "scatter3d": [
           {
            "line": {
             "colorbar": {
              "outlinewidth": 1,
              "tickcolor": "rgb(36,36,36)",
              "ticks": "outside"
             }
            },
            "marker": {
             "colorbar": {
              "outlinewidth": 1,
              "tickcolor": "rgb(36,36,36)",
              "ticks": "outside"
             }
            },
            "type": "scatter3d"
           }
          ],
          "scattercarpet": [
           {
            "marker": {
             "colorbar": {
              "outlinewidth": 1,
              "tickcolor": "rgb(36,36,36)",
              "ticks": "outside"
             }
            },
            "type": "scattercarpet"
           }
          ],
          "scattergeo": [
           {
            "marker": {
             "colorbar": {
              "outlinewidth": 1,
              "tickcolor": "rgb(36,36,36)",
              "ticks": "outside"
             }
            },
            "type": "scattergeo"
           }
          ],
          "scattergl": [
           {
            "marker": {
             "colorbar": {
              "outlinewidth": 1,
              "tickcolor": "rgb(36,36,36)",
              "ticks": "outside"
             }
            },
            "type": "scattergl"
           }
          ],
          "scattermapbox": [
           {
            "marker": {
             "colorbar": {
              "outlinewidth": 1,
              "tickcolor": "rgb(36,36,36)",
              "ticks": "outside"
             }
            },
            "type": "scattermapbox"
           }
          ],
          "scatterpolar": [
           {
            "marker": {
             "colorbar": {
              "outlinewidth": 1,
              "tickcolor": "rgb(36,36,36)",
              "ticks": "outside"
             }
            },
            "type": "scatterpolar"
           }
          ],
          "scatterpolargl": [
           {
            "marker": {
             "colorbar": {
              "outlinewidth": 1,
              "tickcolor": "rgb(36,36,36)",
              "ticks": "outside"
             }
            },
            "type": "scatterpolargl"
           }
          ],
          "scatterternary": [
           {
            "marker": {
             "colorbar": {
              "outlinewidth": 1,
              "tickcolor": "rgb(36,36,36)",
              "ticks": "outside"
             }
            },
            "type": "scatterternary"
           }
          ],
          "surface": [
           {
            "colorbar": {
             "outlinewidth": 1,
             "tickcolor": "rgb(36,36,36)",
             "ticks": "outside"
            },
            "colorscale": [
             [
              0,
              "#440154"
             ],
             [
              0.1111111111111111,
              "#482878"
             ],
             [
              0.2222222222222222,
              "#3e4989"
             ],
             [
              0.3333333333333333,
              "#31688e"
             ],
             [
              0.4444444444444444,
              "#26828e"
             ],
             [
              0.5555555555555556,
              "#1f9e89"
             ],
             [
              0.6666666666666666,
              "#35b779"
             ],
             [
              0.7777777777777778,
              "#6ece58"
             ],
             [
              0.8888888888888888,
              "#b5de2b"
             ],
             [
              1,
              "#fde725"
             ]
            ],
            "type": "surface"
           }
          ],
          "table": [
           {
            "cells": {
             "fill": {
              "color": "rgb(237,237,237)"
             },
             "line": {
              "color": "white"
             }
            },
            "header": {
             "fill": {
              "color": "rgb(217,217,217)"
             },
             "line": {
              "color": "white"
             }
            },
            "type": "table"
           }
          ]
         },
         "layout": {
          "annotationdefaults": {
           "arrowhead": 0,
           "arrowwidth": 1
          },
          "autotypenumbers": "strict",
          "coloraxis": {
           "colorbar": {
            "outlinewidth": 1,
            "tickcolor": "rgb(36,36,36)",
            "ticks": "outside"
           }
          },
          "colorscale": {
           "diverging": [
            [
             0,
             "rgb(103,0,31)"
            ],
            [
             0.1,
             "rgb(178,24,43)"
            ],
            [
             0.2,
             "rgb(214,96,77)"
            ],
            [
             0.3,
             "rgb(244,165,130)"
            ],
            [
             0.4,
             "rgb(253,219,199)"
            ],
            [
             0.5,
             "rgb(247,247,247)"
            ],
            [
             0.6,
             "rgb(209,229,240)"
            ],
            [
             0.7,
             "rgb(146,197,222)"
            ],
            [
             0.8,
             "rgb(67,147,195)"
            ],
            [
             0.9,
             "rgb(33,102,172)"
            ],
            [
             1,
             "rgb(5,48,97)"
            ]
           ],
           "sequential": [
            [
             0,
             "#440154"
            ],
            [
             0.1111111111111111,
             "#482878"
            ],
            [
             0.2222222222222222,
             "#3e4989"
            ],
            [
             0.3333333333333333,
             "#31688e"
            ],
            [
             0.4444444444444444,
             "#26828e"
            ],
            [
             0.5555555555555556,
             "#1f9e89"
            ],
            [
             0.6666666666666666,
             "#35b779"
            ],
            [
             0.7777777777777778,
             "#6ece58"
            ],
            [
             0.8888888888888888,
             "#b5de2b"
            ],
            [
             1,
             "#fde725"
            ]
           ],
           "sequentialminus": [
            [
             0,
             "#440154"
            ],
            [
             0.1111111111111111,
             "#482878"
            ],
            [
             0.2222222222222222,
             "#3e4989"
            ],
            [
             0.3333333333333333,
             "#31688e"
            ],
            [
             0.4444444444444444,
             "#26828e"
            ],
            [
             0.5555555555555556,
             "#1f9e89"
            ],
            [
             0.6666666666666666,
             "#35b779"
            ],
            [
             0.7777777777777778,
             "#6ece58"
            ],
            [
             0.8888888888888888,
             "#b5de2b"
            ],
            [
             1,
             "#fde725"
            ]
           ]
          },
          "colorway": [
           "#1F77B4",
           "#FF7F0E",
           "#2CA02C",
           "#D62728",
           "#9467BD",
           "#8C564B",
           "#E377C2",
           "#7F7F7F",
           "#BCBD22",
           "#17BECF"
          ],
          "font": {
           "color": "rgb(36,36,36)"
          },
          "geo": {
           "bgcolor": "white",
           "lakecolor": "white",
           "landcolor": "white",
           "showlakes": true,
           "showland": true,
           "subunitcolor": "white"
          },
          "hoverlabel": {
           "align": "left"
          },
          "hovermode": "closest",
          "mapbox": {
           "style": "light"
          },
          "paper_bgcolor": "white",
          "plot_bgcolor": "white",
          "polar": {
           "angularaxis": {
            "gridcolor": "rgb(232,232,232)",
            "linecolor": "rgb(36,36,36)",
            "showgrid": false,
            "showline": true,
            "ticks": "outside"
           },
           "bgcolor": "white",
           "radialaxis": {
            "gridcolor": "rgb(232,232,232)",
            "linecolor": "rgb(36,36,36)",
            "showgrid": false,
            "showline": true,
            "ticks": "outside"
           }
          },
          "scene": {
           "xaxis": {
            "backgroundcolor": "white",
            "gridcolor": "rgb(232,232,232)",
            "gridwidth": 2,
            "linecolor": "rgb(36,36,36)",
            "showbackground": true,
            "showgrid": false,
            "showline": true,
            "ticks": "outside",
            "zeroline": false,
            "zerolinecolor": "rgb(36,36,36)"
           },
           "yaxis": {
            "backgroundcolor": "white",
            "gridcolor": "rgb(232,232,232)",
            "gridwidth": 2,
            "linecolor": "rgb(36,36,36)",
            "showbackground": true,
            "showgrid": false,
            "showline": true,
            "ticks": "outside",
            "zeroline": false,
            "zerolinecolor": "rgb(36,36,36)"
           },
           "zaxis": {
            "backgroundcolor": "white",
            "gridcolor": "rgb(232,232,232)",
            "gridwidth": 2,
            "linecolor": "rgb(36,36,36)",
            "showbackground": true,
            "showgrid": false,
            "showline": true,
            "ticks": "outside",
            "zeroline": false,
            "zerolinecolor": "rgb(36,36,36)"
           }
          },
          "shapedefaults": {
           "fillcolor": "black",
           "line": {
            "width": 0
           },
           "opacity": 0.3
          },
          "ternary": {
           "aaxis": {
            "gridcolor": "rgb(232,232,232)",
            "linecolor": "rgb(36,36,36)",
            "showgrid": false,
            "showline": true,
            "ticks": "outside"
           },
           "baxis": {
            "gridcolor": "rgb(232,232,232)",
            "linecolor": "rgb(36,36,36)",
            "showgrid": false,
            "showline": true,
            "ticks": "outside"
           },
           "bgcolor": "white",
           "caxis": {
            "gridcolor": "rgb(232,232,232)",
            "linecolor": "rgb(36,36,36)",
            "showgrid": false,
            "showline": true,
            "ticks": "outside"
           }
          },
          "title": {
           "x": 0.05
          },
          "xaxis": {
           "automargin": true,
           "gridcolor": "rgb(232,232,232)",
           "linecolor": "rgb(36,36,36)",
           "showgrid": false,
           "showline": true,
           "ticks": "outside",
           "title": {
            "standoff": 15
           },
           "zeroline": false,
           "zerolinecolor": "rgb(36,36,36)"
          },
          "yaxis": {
           "automargin": true,
           "gridcolor": "rgb(232,232,232)",
           "linecolor": "rgb(36,36,36)",
           "showgrid": false,
           "showline": true,
           "ticks": "outside",
           "title": {
            "standoff": 15
           },
           "zeroline": false,
           "zerolinecolor": "rgb(36,36,36)"
          }
         }
        }
       }
      }
     },
     "metadata": {},
     "output_type": "display_data"
    }
   ],
   "source": [
    "_df = (\n",
    "    alldata\n",
    "    .assign(concordances = lambda x: x['text_object'].apply(lambda x: x.concordance_list(SEARCH_TERM)))\n",
    "    .loc[lambda x: ~x['concordances'].isna()]\n",
    "    [['pagenumber', 'year', 'author', 'concordances']]\n",
    "    .explode('concordances')\n",
    "    .loc[lambda x: ~x['concordances'].isna()]\n",
    "    .assign(left_text = lambda x: x['concordances'].apply(lambda x: ' '.join(x.left)))\n",
    "    .assign(right_text = lambda x: x['concordances'].apply(lambda x: ' '.join(x.right)))\n",
    "    .assign(search_term = SEARCH_TERM)\n",
    "    [['year', 'left_text', 'search_term', 'right_text']]\n",
    ")\n",
    "headers = _df.columns\n",
    "fig = go.Figure(\n",
    "    data=[\n",
    "        go.Table(\n",
    "            header=dict(\n",
    "                # values=list(_df.columns),\n",
    "                values=['Year', '', '', ''],\n",
    "                fill_color=\"paleturquoise\",\n",
    "                align=\"left\",\n",
    "            ),\n",
    "            cells=dict(\n",
    "                values=[_df[col] for col in headers],\n",
    "                fill_color=\"lavender\",\n",
    "                align=[\"left\", 'right', 'center', 'left'],\n",
    "            ),\n",
    "            columnwidth=[50, 420, 40, 420],\n",
    "        )\n",
    "    ],\n",
    ")\n",
    "fig"
   ]
  },
  {
   "cell_type": "code",
   "execution_count": 6,
   "metadata": {},
   "outputs": [
    {
     "name": "stdout",
     "output_type": "stream",
     "text": [
      "done\n"
     ]
    }
   ],
   "source": [
    "# According to investing.com, amazon has somewhere around\n",
    "# 300 million users: https://www.investing.com/academy/statistics/amazon-facts/\n",
    "# Let's say Jeff wanted to get REAL personal with these letters, and, instead of using the word \"customer\",\n",
    "# wanted to name one of these customers by their name:\n",
    "# I have 2 questions: \n",
    "# 1. How many letters (following the current trend) could he produce before he ran out of unique names?\n",
    "# 2. How long would it take to read each one?\n",
    "from nltk.text import FreqDist\n",
    "TOTAL_USERS = 300_000_000\n",
    "customer_counts = (\n",
    "    alldata\n",
    "    .assign(n_cust = lambda x: x['text_object'].apply(lambda x: x.count('customer')))\n",
    "    .groupby('year')\n",
    "    ['n_cust'].sum()\n",
    ")\n",
    "\n",
    "hit_number = False\n",
    "i = 1\n",
    "total = 0\n",
    "while total <= TOTAL_USERS:\n",
    "    total += customer_counts.sum()\n",
    "    i += 1\n",
    "print('done')"
   ]
  }
 ],
 "metadata": {
  "kernelspec": {
   "display_name": "venv",
   "language": "python",
   "name": "python3"
  },
  "language_info": {
   "codemirror_mode": {
    "name": "ipython",
    "version": 3
   },
   "file_extension": ".py",
   "mimetype": "text/x-python",
   "name": "python",
   "nbconvert_exporter": "python",
   "pygments_lexer": "ipython3",
   "version": "3.10.10"
  }
 },
 "nbformat": 4,
 "nbformat_minor": 2
}
